{
 "cells": [
  {
   "cell_type": "markdown",
   "metadata": {},
   "source": [
    "## In this notebook\n",
    "- Implement ADI\n",
    "- Implement RK\n",
    "    - Regular RK\n",
    "    - Gower's algorithm\n"
   ]
  },
  {
   "cell_type": "code",
   "execution_count": 48,
   "metadata": {},
   "outputs": [],
   "source": [
    "import numpy as np\n",
    "import matplotlib\n",
    "import matplotlib.pyplot as plt"
   ]
  },
  {
   "cell_type": "markdown",
   "metadata": {},
   "source": [
    "### Randomized Kaczmarz"
   ]
  },
  {
   "cell_type": "code",
   "execution_count": 91,
   "metadata": {},
   "outputs": [],
   "source": [
    "def randomized_kaczmarz(A,b, seed=None):\n",
    "    \"\"\"\n",
    "    Solves using randomized kaczmarz.\n",
    "    Randomly selects a row per iteration to update x with\n",
    "    \n",
    "    INPUT: matrix A mxn, vector b mx1 \n",
    "    OUTPUT: vector x nx1 that solves Ax = b\n",
    "    \"\"\"\n",
    "    m,n = A.shape\n",
    "    x0 = np.ones(n)\n",
    "    sols = [x0] # list of x_0 ... x_n\n",
    "    errors = []\n",
    "    if seed != None:\n",
    "        np.random.seed(seed)\n",
    "\n",
    "    while(True):\n",
    "        i = np.random.randint(m)\n",
    "#         print(i)\n",
    "        xprev = sols[-1]\n",
    "        num = A[i,:].dot( xprev) - b[i]\n",
    "        den = A[i,:].dot( A[i,:])\n",
    "        x = xprev - (num / den) * A[i]\n",
    "#         print(np.linalg.norm(A.dot(x) - b))\n",
    "        err = np.linalg.norm(A.dot(x) - b)\n",
    "        errors.append(err)\n",
    "                             \n",
    "        sols.append(x)\n",
    "        \n",
    "        if (err < 1e-5):\n",
    "            break\n",
    "        xprev = x\n",
    "    return sols,errors# print(x.shape)\\\n"
   ]
  },
  {
   "cell_type": "code",
   "execution_count": 92,
   "metadata": {},
   "outputs": [
    {
     "name": "stdout",
     "output_type": "stream",
     "text": [
      "9.053571414931998e-06\n"
     ]
    }
   ],
   "source": [
    "np.random.seed(1)\n",
    "A = np.random.rand(3,5)\n",
    "np.random.seed(1)\n",
    "b = np.random.rand(3)\n",
    "sols,errs = randomized_kaczmarz(A,b,0)\n",
    "x= sols[-1]\n",
    "\n",
    "# print(A.dot(x))\n",
    "# print(b)\n",
    "print(errs[-1])"
   ]
  },
  {
   "cell_type": "code",
   "execution_count": 93,
   "metadata": {},
   "outputs": [
    {
     "data": {
      "image/png": "[encoded data removed]",
      "text/plain": [
       "<Figure size 432x288 with 1 Axes>"
      ]
     },
     "metadata": {
      "needs_background": "light"
     },
     "output_type": "display_data"
    }
   ],
   "source": [
    "plt.plot(errs)\n",
    "plt.xlabel(\"iteration\")\n",
    "plt.ylabel(\"$||Ax-b||^2_2$\")\n",
    "plt.show()"
   ]
  },
  {
   "cell_type": "markdown",
   "metadata": {},
   "source": [
    "## ADI implementation\n"
   ]
  },
  {
   "cell_type": "code",
   "execution_count": 137,
   "metadata": {},
   "outputs": [],
   "source": [
    "def linsolve(A,B):\n",
    "    \"\"\"\n",
    "    Helper function that stacks together multiple Ax=b solvers\n",
    "    INPUT: A,B\n",
    "    OUTPUT: X mxn matrix such that AX = B\n",
    "    \"\"\"\n",
    "    sol = []\n",
    "    a,b = A.shape\n",
    "    c,d = B.shape \n",
    "    assert (a == c)\n",
    "    \n",
    "    for col in B.T:        \n",
    "        x,errs = randomized_kaczmarz(A,col) \n",
    "        sol.append(x[-1])\n",
    "    return (np.stack(sol,axis = -1))\n",
    "    "
   ]
  },
  {
   "cell_type": "code",
   "execution_count": 138,
   "metadata": {},
   "outputs": [
    {
     "name": "stdout",
     "output_type": "stream",
     "text": [
      "[[ 8.25153252e-06  8.31895897e-06  8.47939126e-06  8.93620083e-06\n",
      "   6.59671498e-06  9.63295829e-06]\n",
      " [-3.33066907e-16  1.56125113e-16  0.00000000e+00 -6.66133815e-16\n",
      "   7.77156117e-16 -3.88578059e-16]\n",
      " [-3.89923529e-06 -5.31502913e-06 -4.94022451e-06 -3.06531515e-06\n",
      "  -7.37735933e-06 -1.99604698e-06]]\n"
     ]
    }
   ],
   "source": [
    "np.random.seed(3)\n",
    "A = np.random.rand(3,3)\n",
    "B = np.random.rand(3,6)\n",
    "X = linsolve(A,B)\n",
    "print(A.dot(X) - B)"
   ]
  },
  {
   "cell_type": "code",
   "execution_count": 23,
   "metadata": {},
   "outputs": [],
   "source": [
    "def adi(A,B,F,N,p,q):\n",
    "    m,_ = A.shape\n",
    "    n,_ = B.shape\n",
    "    # print(x.shape)\\\n",
    "\n",
    "print(\"hi\")\n",
    "    sols = []\n",
    "    Xprev = np.zeros((m,n))\n",
    "    \n",
    "    for i in range(N):\n",
    "        Ahalf = (A - p[i] * np.eye(m,m))\n",
    "        Bhalf = Xprev * (B - q[i] * np.eye(n,n)) + F\n",
    "\n",
    "        Xhalf = linsolve(Ahalf,Bhalf)   \n",
    "        \n",
    "        Asolve = (B - q[i] * np.eye(n,n))\n",
    "        Bsolve = (A - q[i] * np.eye(m,m)) * Xhalf - F\n",
    "        \n",
    "        X = (linsolve(Asolve.T, Bsolve.T)).T\n",
    "        sols.append(X)\n",
    "        Xprev = X \n",
    "    return sols"
   ]
  },
  {
   "cell_type": "code",
   "execution_count": 24,
   "metadata": {
    "collapsed": true
   },
   "outputs": [
    {
     "name": "stdout",
     "output_type": "stream",
     "text": [
      "[[0.15896316 0.28269837 0.79935692 0.55471656]\n",
      " [0.84871275 0.32770642 0.48851027 0.00228307]\n",
      " [0.45285109 0.67060522 0.75513694 0.14489096]\n",
      " [0.51370512 0.65356804 0.22941171 0.74546055]]\n",
      "[1. 0. 0. 0.]\n",
      "[0. 0. 0. 0.]\n",
      "[[0.15896316 0.28269837 0.79935692 0.55471656]\n",
      " [0.84871275 0.32770642 0.48851027 0.00228307]\n",
      " [0.45285109 0.67060522 0.75513694 0.14489096]\n",
      " [0.51370512 0.65356804 0.22941171 0.74546055]]\n",
      "[0. 1. 0. 0.]\n",
      "[0. 0. 0. 0.]\n",
      "[[0.15896316 0.28269837 0.79935692 0.55471656]\n",
      " [0.84871275 0.32770642 0.48851027 0.00228307]\n",
      " [0.45285109 0.67060522 0.75513694 0.14489096]\n",
      " [0.51370512 0.65356804 0.22941171 0.74546055]]\n",
      "[0. 0. 1. 0.]\n",
      "[0. 0. 0. 0.]\n",
      "[[0.15896316 0.28269837 0.79935692 0.55471656]\n",
      " [0.84871275 0.32770642 0.48851027 0.00228307]\n",
      " [0.45285109 0.67060522 0.75513694 0.14489096]\n",
      " [0.51370512 0.65356804 0.22941171 0.74546055]]\n",
      "[0. 0. 0. 1.]\n",
      "[0. 0. 0. 0.]\n"
     ]
    },
    {
     "ename": "ValueError",
     "evalue": "operands could not be broadcast together with shapes (4,4) (16,) ",
     "output_type": "error",
     "traceback": [
      "\u001b[0;31m---------------------------------------------------------------------------\u001b[0m",
      "\u001b[0;31mValueError\u001b[0m                                Traceback (most recent call last)",
      "\u001b[0;32m<ipython-input-24-1cd195fe1f2d>\u001b[0m in \u001b[0;36m<module>\u001b[0;34m\u001b[0m\n\u001b[1;32m     14\u001b[0m \u001b[0;34m\u001b[0m\u001b[0m\n\u001b[1;32m     15\u001b[0m \u001b[0;34m\u001b[0m\u001b[0m\n\u001b[0;32m---> 16\u001b[0;31m \u001b[0msols\u001b[0m \u001b[0;34m=\u001b[0m \u001b[0madi\u001b[0m\u001b[0;34m(\u001b[0m\u001b[0mA\u001b[0m\u001b[0;34m,\u001b[0m\u001b[0mB\u001b[0m\u001b[0;34m,\u001b[0m\u001b[0mF\u001b[0m\u001b[0;34m,\u001b[0m\u001b[0mN\u001b[0m\u001b[0;34m,\u001b[0m\u001b[0mp\u001b[0m\u001b[0;34m,\u001b[0m\u001b[0mq\u001b[0m\u001b[0;34m)\u001b[0m\u001b[0;34m\u001b[0m\u001b[0;34m\u001b[0m\u001b[0m\n\u001b[0m\u001b[1;32m     17\u001b[0m \u001b[0;31m# print(sols)\u001b[0m\u001b[0;34m\u001b[0m\u001b[0;34m\u001b[0m\u001b[0;34m\u001b[0m\u001b[0m\n\u001b[1;32m     18\u001b[0m \u001b[0mX\u001b[0m \u001b[0;34m=\u001b[0m \u001b[0msols\u001b[0m\u001b[0;34m[\u001b[0m\u001b[0;34m-\u001b[0m\u001b[0;36m1\u001b[0m\u001b[0;34m]\u001b[0m\u001b[0;34m\u001b[0m\u001b[0;34m\u001b[0m\u001b[0m\n",
      "\u001b[0;32m<ipython-input-23-85cbc8244cc6>\u001b[0m in \u001b[0;36madi\u001b[0;34m(A, B, F, N, p, q)\u001b[0m\n\u001b[1;32m     13\u001b[0m \u001b[0;34m\u001b[0m\u001b[0m\n\u001b[1;32m     14\u001b[0m         \u001b[0mAsolve\u001b[0m \u001b[0;34m=\u001b[0m \u001b[0;34m(\u001b[0m\u001b[0mB\u001b[0m \u001b[0;34m-\u001b[0m \u001b[0mq\u001b[0m\u001b[0;34m[\u001b[0m\u001b[0mi\u001b[0m\u001b[0;34m]\u001b[0m \u001b[0;34m*\u001b[0m \u001b[0mnp\u001b[0m\u001b[0;34m.\u001b[0m\u001b[0meye\u001b[0m\u001b[0;34m(\u001b[0m\u001b[0mn\u001b[0m\u001b[0;34m,\u001b[0m\u001b[0mn\u001b[0m\u001b[0;34m)\u001b[0m\u001b[0;34m)\u001b[0m\u001b[0;34m\u001b[0m\u001b[0;34m\u001b[0m\u001b[0m\n\u001b[0;32m---> 15\u001b[0;31m         \u001b[0mBsolve\u001b[0m \u001b[0;34m=\u001b[0m \u001b[0;34m(\u001b[0m\u001b[0mA\u001b[0m \u001b[0;34m-\u001b[0m \u001b[0mq\u001b[0m\u001b[0;34m[\u001b[0m\u001b[0mi\u001b[0m\u001b[0;34m]\u001b[0m \u001b[0;34m*\u001b[0m \u001b[0mnp\u001b[0m\u001b[0;34m.\u001b[0m\u001b[0meye\u001b[0m\u001b[0;34m(\u001b[0m\u001b[0mm\u001b[0m\u001b[0;34m,\u001b[0m\u001b[0mm\u001b[0m\u001b[0;34m)\u001b[0m\u001b[0;34m)\u001b[0m \u001b[0;34m*\u001b[0m \u001b[0mXhalf\u001b[0m \u001b[0;34m-\u001b[0m \u001b[0mF\u001b[0m\u001b[0;34m\u001b[0m\u001b[0;34m\u001b[0m\u001b[0m\n\u001b[0m\u001b[1;32m     16\u001b[0m \u001b[0;34m\u001b[0m\u001b[0m\n\u001b[1;32m     17\u001b[0m         \u001b[0mX\u001b[0m \u001b[0;34m=\u001b[0m \u001b[0;34m(\u001b[0m\u001b[0mlinsolve\u001b[0m\u001b[0;34m(\u001b[0m\u001b[0mAsolve\u001b[0m\u001b[0;34m.\u001b[0m\u001b[0mT\u001b[0m\u001b[0;34m,\u001b[0m \u001b[0mBsolve\u001b[0m\u001b[0;34m.\u001b[0m\u001b[0mT\u001b[0m\u001b[0;34m)\u001b[0m\u001b[0;34m)\u001b[0m\u001b[0;34m.\u001b[0m\u001b[0mT\u001b[0m\u001b[0;34m\u001b[0m\u001b[0;34m\u001b[0m\u001b[0m\n",
      "\u001b[0;31mValueError\u001b[0m: operands could not be broadcast together with shapes (4,4) (16,) "
     ]
    }
   ],
   "source": [
    "\n",
    "N = 10\n",
    "p = np.zeros(N)\n",
    "q = np.zeros(N)\n",
    "\n",
    "# p = p + 0.01\n",
    "# q = q + 0.01\n",
    "# A = np.eye(4, 4)\n",
    "# B = np.eye(4,4) * 2.32\n",
    "# F = np.eye(4,4) * 1.39\n",
    "\n",
    "A = np.random.rand(4,4)\n",
    "B = np.random.rand(4,4)\n",
    "F = np.eye(4,4)\n",
    "\n",
    "\n",
    "sols = adi(A,B,F,N,p,q)\n",
    "# print(sols)\n",
    "X = sols[-1]\n",
    "print (A * X + X * B )\n"
   ]
  },
  {
   "cell_type": "code",
   "execution_count": 37,
   "metadata": {},
   "outputs": [],
   "source": [
    "def random_vector_sketch(A,b):\n",
    "    sols = [0]\n",
    "    m,n = A.shape\n",
    "    s = np.random.rand(m) * 0.001\n",
    "    Binv = np.eye(n)\n",
    "    \n",
    "    for i in range(10):\n",
    "        xprev = sols[-1]\n",
    "        num = np.dot(s, (A * xprev - b))\n",
    "        den = np.dot(s,A) * Binv * A.T * s\n",
    "        \n",
    "        x = xprev - num / den * Binv * A.T * s\n",
    "        \n",
    "        sols.append(x)\n",
    "        xprev = x\n",
    "    \n",
    "    return sols\n",
    "    "
   ]
  },
  {
   "cell_type": "code",
   "execution_count": null,
   "metadata": {},
   "outputs": [],
   "source": [
    "A = np.eye(4) \n",
    "b = np.array([3,3,3,3])\n",
    "\n",
    "# print(A)\n",
    "# print(b)\n",
    "# print (np.linalg.solve(A,b))\n",
    "\n",
    "print(random_vector_sketch(A,b))"
   ]
  }
 ],
 "metadata": {
  "kernelspec": {
   "display_name": "Python 3",
   "language": "python",
   "name": "python3"
  },
  "language_info": {
   "codemirror_mode": {
    "name": "ipython",
    "version": 3
   },
   "file_extension": ".py",
   "mimetype": "text/x-python",
   "name": "python",
   "nbconvert_exporter": "python",
   "pygments_lexer": "ipython3",
   "version": "3.6.8"
  }
 },
 "nbformat": 4,
 "nbformat_minor": 2
}
