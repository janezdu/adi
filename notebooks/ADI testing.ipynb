{
 "cells": [
  {
   "cell_type": "markdown",
   "metadata": {},
   "source": [
    "# In this notebook\n",
    "- Randomized iterative methods (Gower's paper)\n",
    "- Using them to linear solve matrices AX = B\n",
    "- ADI \n",
    "\n",
    "All are tested very loosely with small matrices. A more formal unit test suite can be found in the project in `../src`."
   ]
  },
  {
   "cell_type": "code",
   "execution_count": 1,
   "metadata": {},
   "outputs": [],
   "source": [
    "# usings and imports\n",
    "using Random\n",
    "using LinearAlgebra\n",
    "using SparseArrays\n",
    "using Elliptic\n",
    "# using Plots\n"
   ]
  },
  {
   "cell_type": "markdown",
   "metadata": {},
   "source": [
    "## Random iterative method (parameterized) \n",
    "\n",
    "Solves $Ax = b$"
   ]
  },
  {
   "cell_type": "code",
   "execution_count": 2,
   "metadata": {},
   "outputs": [
    {
     "data": {
      "text/plain": [
       "rand_linsolve (generic function with 3 methods)"
      ]
     },
     "execution_count": 2,
     "metadata": {},
     "output_type": "execute_result"
    }
   ],
   "source": [
    "function rand_linsolve(A,b,B, Stype, seed=nothing,verbose=false)\n",
    "    \"\"\"\n",
    "    Solves using randomized kaczmarz.\n",
    "    Randomly selects a row per iteration to update x with\n",
    "    \n",
    "    INPUT:  matrix A mxn, \n",
    "            vector b mx1,\n",
    "            matrix B nxn\n",
    "            string Stype: \"coordvec\", \"\"\n",
    "            \n",
    "    OUTPUT: vector x nx1 that solves Ax = b\n",
    "    \"\"\"\n",
    "    m,n = size(A)\n",
    "    x0 = ones(n)\n",
    "    sols = [x0] # list of x_0 ... x_n\n",
    "    errs = zeros(0)\n",
    "    if seed != nothing\n",
    "        Random.seed!(seed)\n",
    "    end\n",
    "    @assert Stype == \"coordvec\"\n",
    "    \n",
    "    Binv = inv(B)\n",
    "    xprev = x0\n",
    "    while(true)\n",
    "        \n",
    "        i = rand(1:m)\n",
    "        \n",
    "        # S is a unit coordinate vector (temporary)\n",
    "        S = zeros(m)\n",
    "        S[i] = 1\n",
    "        \n",
    "        C = Binv * A' * S * pinv(S' * A * Binv * A' * S) * S'      \n",
    "        res = A * xprev - b\n",
    "        xnew = xprev - C * res\n",
    "  \n",
    "        push!(sols, xnew)\n",
    "        err = norm(A * xnew - b)\n",
    "        push!(errs,err)\n",
    "        if err < 1e-5\n",
    "            break\n",
    "        end\n",
    "        \n",
    "        xprev = xnew\n",
    "    end\n",
    "    \n",
    "    if verbose\n",
    "        return sols,errs\n",
    "    else\n",
    "        return sols[end]\n",
    "    end\n",
    "end"
   ]
  },
  {
   "cell_type": "code",
   "execution_count": 3,
   "metadata": {},
   "outputs": [
    {
     "name": "stdout",
     "output_type": "stream",
     "text": [
      "done\n"
     ]
    }
   ],
   "source": [
    "seed = 0\n",
    "\n",
    "A = rand(Float64,30,50)\n",
    "b = rand(Float64,30)\n",
    "B = I # n x n \n",
    "# display(\"text/plain\",A)\n",
    "# display(\"text/plain\",b)\n",
    "# display(\"text/plain\",B)\n",
    "\n",
    "sols,errs = rand_linsolve(A,b, B,\"coordvec\", seed,true)\n",
    "println(\"done\")"
   ]
  },
  {
   "cell_type": "code",
   "execution_count": 4,
   "metadata": {},
   "outputs": [
    {
     "name": "stdout",
     "output_type": "stream",
     "text": [
      "(10612,)\n"
     ]
    },
    {
     "ename": "UndefVarError",
     "evalue": "UndefVarError: plot not defined",
     "output_type": "error",
     "traceback": [
      "UndefVarError: plot not defined",
      "",
      "Stacktrace:",
      " [1] top-level scope at In[4]:4"
     ]
    }
   ],
   "source": [
    "println(size(errs))\n",
    "# println(errs)\n",
    "numiters= size(errs)[1]\n",
    "plot(1:numiters, errs[:,1])"
   ]
  },
  {
   "cell_type": "code",
   "execution_count": 5,
   "metadata": {},
   "outputs": [
    {
     "data": {
      "text/plain": [
       "rand_matsolve (generic function with 2 methods)"
      ]
     },
     "execution_count": 5,
     "metadata": {},
     "output_type": "execute_result"
    }
   ],
   "source": [
    "function rand_matsolve(A,B,seed=nothing)\n",
    "    \"\"\"\n",
    "    Helper function that stacks together multiple Ax=b solvers\n",
    "    INPUT: \n",
    "            A: matrix mxn\n",
    "            B: matrix mxk\n",
    "    OUTPUT: X: matrix such that AX = B\n",
    "    \"\"\"\n",
    "    \n",
    "    m1,n = size(A)\n",
    "    m2,k = size(B)\n",
    "    sol = zeros(n,k)\n",
    "    @assert m1==m2 \n",
    "    \n",
    "    s(b) = rand_linsolve(A,b,I,\"coordvec\", seed)\n",
    "    return mapslices(s,B,dims=[1])\n",
    "    \n",
    "end"
   ]
  },
  {
   "cell_type": "code",
   "execution_count": 10,
   "metadata": {},
   "outputs": [
    {
     "name": "stdout",
     "output_type": "stream",
     "text": [
      "done\n",
      "7.679277571487114e-5\n"
     ]
    }
   ],
   "source": [
    "A = rand(Float64,30,50)\n",
    "B = rand(Float64,30,60)\n",
    "Bparam = I # n x n\n",
    "m1,n = size(A)\n",
    "m2,k = size(B)\n",
    "sol = zeros(n,k)\n",
    "\n",
    "X = rand_matsolve(A,B)\n",
    "println(\"done\")\n",
    "println(norm(A * X - B))"
   ]
  },
  {
   "cell_type": "code",
   "execution_count": 7,
   "metadata": {},
   "outputs": [
    {
     "data": {
      "text/plain": [
       "adi_parameters (generic function with 1 method)"
      ]
     },
     "execution_count": 7,
     "metadata": {},
     "output_type": "execute_result"
    }
   ],
   "source": [
    "\n",
    "function adi_parameters(a,b,c,d,J)\n",
    "    p = zeros(J)\n",
    "    q = zeros(J)\n",
    "    gamma = abs((c-a) * (d-b)  / (c-b)*(d-a))\n",
    "    alpha = -1 + 2*gamma + 2 * sqrt(gamma^2 - gamma)\n",
    "    kappa = sqrt(1 - 1 / (alpha^2))\n",
    "\n",
    "    TT(t) = (-alpha * t -1)/(t + alpha)\n",
    "\n",
    "    for j = 1:J\n",
    "        z = (2 * j + 1) / (2 * J) * Elliptic.K(kappa)\n",
    "        t = -alpha * Elliptic.Jacobi.dn(z,kappa)\n",
    "        p[j] = TT(t)\n",
    "        q[j] = TT(-t)\n",
    "    end\n",
    "\n",
    "    return p,q\n",
    "end"
   ]
  },
  {
   "cell_type": "markdown",
   "metadata": {},
   "source": [
    "## ADI\n",
    "\n",
    "Solves $AX - XB = N$ for low rank $N$"
   ]
  },
  {
   "cell_type": "code",
   "execution_count": 63,
   "metadata": {},
   "outputs": [
    {
     "data": {
      "text/plain": [
       "adi (generic function with 1 method)"
      ]
     },
     "execution_count": 63,
     "metadata": {},
     "output_type": "execute_result"
    }
   ],
   "source": [
    "function adi(A,B,F,N,p,q)\n",
    "    m,m2 = size(A)\n",
    "    n,n2 = size(B)\n",
    "    \n",
    "    @assert m==m2\n",
    "    @assert n==n2\n",
    "    \n",
    "    sols = []\n",
    "    Xprev = zeros((m,n)) \n",
    "    for i = 1:N\n",
    "        Ahalf = (A - p[i] * I)\n",
    "        Bhalf = Xprev * (B - p[i] * I) + F\n",
    "#         Xhalf = rand_matsolve(Ahalf,Bhalf) \n",
    "        Xhalf = Ahalf \\ Bhalf\n",
    "\n",
    "        Asolve = (B - q[i] * I)\n",
    "        Bsolve = (A - q[i] * I) * Xhalf - F\n",
    "#         X = (rand_matsolve(Asolve', Bsolve'))'\n",
    "        X = (Asolve' \\ Bsolve')'\n",
    "            \n",
    "        Xprev = X \n",
    "        push!(sols,X)\n",
    "    end    \n",
    "    return sols\n",
    "end"
   ]
  },
  {
   "cell_type": "code",
   "execution_count": 64,
   "metadata": {},
   "outputs": [
    {
     "data": {
      "text/plain": [
       "15.0"
      ]
     },
     "execution_count": 64,
     "metadata": {},
     "output_type": "execute_result"
    }
   ],
   "source": [
    "#--- Small Test\n",
    "temp = rand(5,5)\n",
    "Q,R = qr(temp)\n",
    "Aevals = [1., 2., 3., 4., 5.]\n",
    "Bevals = [11., 12., 13., 14., 15.]\n",
    "A = Q * Diagonal(Aevals) * Q'\n",
    "B = Q * Diagonal(Bevals) * Q'\n",
    "F = rand(Float64,5,5)\n",
    "\n",
    "a = minimum(Aevals)\n",
    "b = maximum(Aevals)\n",
    "c = minimum(Bevals)\n",
    "d = maximum(Bevals)"
   ]
  },
  {
   "cell_type": "code",
   "execution_count": 65,
   "metadata": {},
   "outputs": [
    {
     "ename": "MethodError",
     "evalue": "MethodError: no method matching (::Colon)(::Int64, ::Tuple{Array{Float64,1},Array{Float64,1}})\nClosest candidates are:\n  Colon(::T<:Real, ::Any, !Matched::T<:Real) where T<:Real at range.jl:40\n  Colon(::A<:Real, ::Any, !Matched::C<:Real) where {A<:Real, C<:Real} at range.jl:10\n  Colon(::T, ::Any, !Matched::T) where T at range.jl:39\n  ...",
     "output_type": "error",
     "traceback": [
      "MethodError: no method matching (::Colon)(::Int64, ::Tuple{Array{Float64,1},Array{Float64,1}})\nClosest candidates are:\n  Colon(::T<:Real, ::Any, !Matched::T<:Real) where T<:Real at range.jl:40\n  Colon(::A<:Real, ::Any, !Matched::C<:Real) where {A<:Real, C<:Real} at range.jl:10\n  Colon(::T, ::Any, !Matched::T) where T at range.jl:39\n  ...",
      "",
      "Stacktrace:",
      " [1] adi(::Array{Float64,2}, ::Array{Float64,2}, ::Array{Float64,2}, ::Tuple{Array{Float64,1},Array{Float64,1}}, ::Array{Float64,1}, ::Array{Float64,1}) at ./In[63]:10",
      " [2] top-level scope at In[65]:4"
     ]
    }
   ],
   "source": [
    "#--- Run Small Test\n",
    "N = \n",
    "p,q = adi_parameters(a,b,c,d,N)\n",
    "sols = adi(A,B,F,N,p,q)\n",
    "X = sols[end]\n",
    "print(norm(A * X - X * B - F))\n",
    "#---"
   ]
  },
  {
   "cell_type": "code",
   "execution_count": 39,
   "metadata": {},
   "outputs": [
    {
     "name": "stdout",
     "output_type": "stream",
     "text": [
      "  0.001098 seconds (103 allocations: 19.313 KiB)\n"
     ]
    },
    {
     "data": {
      "text/plain": [
       "1"
      ]
     },
     "execution_count": 39,
     "metadata": {},
     "output_type": "execute_result"
    }
   ],
   "source": [
    "@time adi(A,B,F,N,p,q)"
   ]
  },
  {
   "cell_type": "code",
   "execution_count": null,
   "metadata": {},
   "outputs": [],
   "source": []
  }
 ],
 "metadata": {
  "kernelspec": {
   "display_name": "Julia 1.1.0",
   "language": "julia",
   "name": "julia-1.1"
  },
  "language_info": {
   "file_extension": ".jl",
   "mimetype": "application/julia",
   "name": "julia",
   "version": "1.1.0"
  }
 },
 "nbformat": 4,
 "nbformat_minor": 2
}
