{
 "cells": [
  {
   "cell_type": "markdown",
   "metadata": {},
   "source": [
    "# In this notebook\n",
    "- Randomized iterative methods (Gower's paper)\n",
    "- Using them to linear solve matrices AX = B\n",
    "- ADI \n",
    "\n",
    "All are tested very loosely with small matrices. A more formal unit test suite can be found in the project in `../src`."
   ]
  },
  {
   "cell_type": "code",
   "execution_count": 148,
   "metadata": {},
   "outputs": [],
   "source": [
    "# usings and imports\n",
    "using Random\n",
    "using LinearAlgebra\n",
    "using SparseArrays\n",
    "using Elliptic\n",
    "using Plots\n"
   ]
  },
  {
   "cell_type": "markdown",
   "metadata": {},
   "source": [
    "## Random iterative method (parameterized) \n",
    "\n",
    "Solves $Ax = b$"
   ]
  },
  {
   "cell_type": "code",
   "execution_count": 87,
   "metadata": {},
   "outputs": [
    {
     "data": {
      "text/plain": [
       "rand_linsolve (generic function with 3 methods)"
      ]
     },
     "execution_count": 87,
     "metadata": {},
     "output_type": "execute_result"
    }
   ],
   "source": [
    "function rand_linsolve(A,b,B, Stype, seed=nothing,verbose=false)\n",
    "    \"\"\"\n",
    "    Solves using randomized kaczmarz.\n",
    "    Randomly selects a row per iteration to update x with\n",
    "    \n",
    "    INPUT:  matrix A mxn, \n",
    "            vector b mx1,\n",
    "            matrix B nxn\n",
    "            string Stype: \"coordvec\", \"\"\n",
    "            \n",
    "    OUTPUT: vector x nx1 that solves Ax = b\n",
    "    \"\"\"\n",
    "    m,n = size(A)\n",
    "    x0 = ones(n)\n",
    "    sols = [x0] # list of x_0 ... x_n\n",
    "    errs = zeros(0)\n",
    "    if seed != nothing\n",
    "        Random.seed!(seed)\n",
    "    end\n",
    "    @assert Stype == \"coordvec\"\n",
    "    \n",
    "    Binv = inv(B)\n",
    "    xprev = x0\n",
    "    while(true)\n",
    "        \n",
    "        i = rand(1:m)\n",
    "        \n",
    "        # S is a unit coordinate vector (temporary)\n",
    "        S = zeros(m)\n",
    "        S[i] = 1\n",
    "        \n",
    "        C = Binv * A' * S * pinv(S' * A * Binv * A' * S) * S'      \n",
    "        res = A * xprev - b\n",
    "        xnew = xprev - C * res\n",
    "  \n",
    "        push!(sols, xnew)\n",
    "        err = norm(A * xnew - b)\n",
    "        push!(errs,err)\n",
    "        if err < 1e-5\n",
    "            break\n",
    "        end\n",
    "        \n",
    "        xprev = xnew\n",
    "    end\n",
    "    \n",
    "    if verbose\n",
    "        return sols,errs\n",
    "    else\n",
    "        return sols[end]\n",
    "    end\n",
    "end"
   ]
  },
  {
   "cell_type": "code",
   "execution_count": 88,
   "metadata": {},
   "outputs": [
    {
     "name": "stdout",
     "output_type": "stream",
     "text": [
      "done\n"
     ]
    }
   ],
   "source": [
    "seed = 0\n",
    "\n",
    "A = rand(Float64,30,50)\n",
    "b = rand(Float64,30)\n",
    "B = I # n x n \n",
    "# display(\"text/plain\",A)\n",
    "# display(\"text/plain\",b)\n",
    "# display(\"text/plain\",B)\n",
    "\n",
    "sols,errs = rand_linsolve(A,b, B,\"coordvec\", seed,true)\n",
    "println(\"done\")"
   ]
  },
  {
   "cell_type": "code",
   "execution_count": 89,
   "metadata": {},
   "outputs": [
    {
     "name": "stdout",
     "output_type": "stream",
     "text": [
      "(14841,)\n"
     ]
    },
    {
     "ename": "UndefVarError",
     "evalue": "UndefVarError: plot not defined",
     "output_type": "error",
     "traceback": [
      "UndefVarError: plot not defined",
      "",
      "Stacktrace:",
      " [1] top-level scope at In[89]:4"
     ]
    }
   ],
   "source": [
    "println(size(errs))\n",
    "# println(errs)\n",
    "numiters= size(errs)[1]\n",
    "plot(1:numiters, errs[:,1])"
   ]
  },
  {
   "cell_type": "code",
   "execution_count": 5,
   "metadata": {},
   "outputs": [
    {
     "data": {
      "text/plain": [
       "rand_matsolve (generic function with 2 methods)"
      ]
     },
     "execution_count": 5,
     "metadata": {},
     "output_type": "execute_result"
    }
   ],
   "source": [
    "function rand_matsolve(A,B,seed=nothing)\n",
    "    \"\"\"\n",
    "    Helper function that stacks together multiple Ax=b solvers\n",
    "    INPUT: \n",
    "            A: matrix mxn\n",
    "            B: matrix mxk\n",
    "    OUTPUT: X: matrix such that AX = B\n",
    "    \"\"\"\n",
    "    \n",
    "    m1,n = size(A)\n",
    "    m2,k = size(B)\n",
    "    sol = zeros(n,k)\n",
    "    @assert m1==m2 \n",
    "    \n",
    "    s(b) = rand_linsolve(A,b,I,\"coordvec\", seed)\n",
    "    return mapslices(s,B,dims=[1])\n",
    "    \n",
    "end"
   ]
  },
  {
   "cell_type": "code",
   "execution_count": 10,
   "metadata": {},
   "outputs": [
    {
     "name": "stdout",
     "output_type": "stream",
     "text": [
      "done\n",
      "7.679277571487114e-5\n"
     ]
    }
   ],
   "source": [
    "A = rand(Float64,30,50)\n",
    "B = rand(Float64,30,60)\n",
    "Bparam = I # n x n\n",
    "m1,n = size(A)\n",
    "m2,k = size(B)\n",
    "sol = zeros(n,k)\n",
    "\n",
    "X = rand_matsolve(A,B)\n",
    "println(\"done\")\n",
    "println(norm(A * X - B))"
   ]
  },
  {
   "cell_type": "code",
   "execution_count": 97,
   "metadata": {},
   "outputs": [
    {
     "data": {
      "text/plain": [
       "adi_parameters (generic function with 2 methods)"
      ]
     },
     "execution_count": 97,
     "metadata": {},
     "output_type": "execute_result"
    }
   ],
   "source": [
    "function adi_parameters(gamma,J)\n",
    "    p = zeros(J)\n",
    "    q = zeros(J)\n",
    "    alpha = -1 + 2*gamma + 2 * sqrt(gamma^2 - gamma)\n",
    "    kappa = sqrt(1 - 1 / (alpha^2))\n",
    "\n",
    "    TT(t) = (-alpha * t -1)/(t + alpha)\n",
    "\n",
    "    for j = 1:J\n",
    "        z = (2 * j + 1) / (2 * J) * Elliptic.K(kappa)\n",
    "        t = -alpha * Elliptic.Jacobi.dn(z,kappa)\n",
    "        p[j] = TT(t)\n",
    "        q[j] = TT(-t)\n",
    "    end\n",
    "\n",
    "    return p,q\n",
    "end"
   ]
  },
  {
   "cell_type": "markdown",
   "metadata": {},
   "source": [
    "## ADI\n",
    "\n",
    "Solves $AX - XB = N$ for low rank $N$"
   ]
  },
  {
   "cell_type": "code",
   "execution_count": 98,
   "metadata": {},
   "outputs": [
    {
     "data": {
      "text/plain": [
       "adi (generic function with 1 method)"
      ]
     },
     "execution_count": 98,
     "metadata": {},
     "output_type": "execute_result"
    }
   ],
   "source": [
    "function adi(A,B,F,N,p,q)\n",
    "    m,m2 = size(A)\n",
    "    n,n2 = size(B)\n",
    "    \n",
    "    @assert m==m2\n",
    "    @assert n==n2\n",
    "    \n",
    "    sols = []\n",
    "    Xprev = zeros((m,n)) \n",
    "    for i = 1:N\n",
    "        Ahalf = (B - p[i] * I)\n",
    "        Bhalf = (F - (A - p[i] * I)*Xprev)\n",
    "        Xhalf = (Ahalf' \\ Bhalf')'\n",
    "\n",
    "        Asolve = (A - q[i] * I)\n",
    "        Bsolve = F - Xhalf * (B - q[i] * I) \n",
    "        X = Asolve \\ Bsolve\n",
    "            \n",
    "        Xprev = X \n",
    "        push!(sols,X)\n",
    "    end    \n",
    "    return sols\n",
    "end"
   ]
  },
  {
   "cell_type": "code",
   "execution_count": 252,
   "metadata": {},
   "outputs": [
    {
     "data": {
      "text/plain": [
       "14"
      ]
     },
     "execution_count": 252,
     "metadata": {},
     "output_type": "execute_result"
    }
   ],
   "source": [
    "# https://github.com/ajt60gaibb/freeLYAP/blob/master/iterative_solvers/getshifts_adi.m\n",
    "#--- Small Test\n",
    "temp = rand(5,5)\n",
    "Q,R = qr(temp)\n",
    "Q2,R2 = qr(rand(5,5))\n",
    "Aevals = [1., 2., 3., 4., 5.]\n",
    "# Bevals = [11., 12., 13., 14., 15.]\n",
    "Bevals = -Aevals\n",
    "A = Q * Diagonal(Aevals) * Q'\n",
    "B = Q2 * Diagonal(Bevals) * Q2'\n",
    "Xans = rand(5,5)\n",
    "F = A * Xans - Xans * B\n",
    "\n",
    "a = minimum(Aevals)\n",
    "b = maximum(Aevals)\n",
    "c = minimum(Bevals)\n",
    "d = maximum(Bevals)\n",
    "gamma = abs(((c-a)*(d-b))/ ((c-b)*(d-a)))\n",
    "e = 10e-17\n",
    "J = 1 + trunc(Int, abs(log(16 * gamma) * log(4 / e)  / pi^2))"
   ]
  },
  {
   "cell_type": "code",
   "execution_count": 253,
   "metadata": {},
   "outputs": [
    {
     "name": "stdout",
     "output_type": "stream",
     "text": [
      "[75.1644, 26.4777, 13.0785, 7.58078, 4.81532, 3.24315, 2.27599, 1.64986, 1.23238, 0.951814, 0.767262, 0.655004, 0.601839, 0.601839]\n",
      "[-2.52593, -2.40191, -2.23262, -2.03423, -1.82323, -1.61423, -1.4187, -1.24466, -1.09702, -0.978294, -0.889411, -0.830417, -0.801034, -0.801034]\n",
      "1.8\n"
     ]
    }
   ],
   "source": [
    "#--- Run Small Test\n",
    "p,q = adi_parameters(gamma, J)\n",
    "sols = adi(A,B,F,J,p,q)\n",
    "X = sols[end]\n",
    "println(p)\n",
    "println(q)\n",
    "println(gamma)\n",
    "#---"
   ]
  },
  {
   "cell_type": "code",
   "execution_count": 254,
   "metadata": {},
   "outputs": [
    {
     "name": "stdout",
     "output_type": "stream",
     "text": [
      "2.1363396242031962e-10\n"
     ]
    },
    {
     "data": {
      "image/svg+xml": [
       "<?xml version=\"1.0\" encoding=\"utf-8\"?>\n",
       "<svg xmlns=\"http://www.w3.org/2000/svg\" xmlns:xlink=\"http://www.w3.org/1999/xlink\" width=\"600\" height=\"400\" viewBox=\"0 0 2400 1600\">\n",
       "<defs>\n",
       "  <clipPath id=\"clip3400\">\n",
       "    <rect x=\"0\" y=\"0\" width=\"2400\" height=\"1600\"/>\n",
       "  </clipPath>\n",
       "</defs>\n",
       "<path clip-path=\"url(#clip3400)\" d=\"\n",
       "M0 1600 L2400 1600 L2400 0 L0 0  Z\n",
       "  \" fill=\"#ffffff\" fill-rule=\"evenodd\" fill-opacity=\"1\"/>\n",
       "<defs>\n",
       "  <clipPath id=\"clip3401\">\n",
       "    <rect x=\"480\" y=\"0\" width=\"1681\" height=\"1600\"/>\n",
       "  </clipPath>\n",
       "</defs>\n",
       "<path clip-path=\"url(#clip3400)\" d=\"\n",
       "M225.46 1503.47 L2321.26 1503.47 L2321.26 47.2441 L225.46 47.2441  Z\n",
       "  \" fill=\"#ffffff\" fill-rule=\"evenodd\" fill-opacity=\"1\"/>\n",
       "<defs>\n",
       "  <clipPath id=\"clip3402\">\n",
       "    <rect x=\"225\" y=\"47\" width=\"2097\" height=\"1457\"/>\n",
       "  </clipPath>\n",
       "</defs>\n",
       "<polyline clip-path=\"url(#clip3402)\" style=\"stroke:#000000; stroke-width:1.6; stroke-opacity:0.1; fill:none\" points=\"\n",
       "  512.91,1503.47 512.91,47.2441 \n",
       "  \"/>\n",
       "<polyline clip-path=\"url(#clip3402)\" style=\"stroke:#000000; stroke-width:1.6; stroke-opacity:0.1; fill:none\" points=\"\n",
       "  893.135,1503.47 893.135,47.2441 \n",
       "  \"/>\n",
       "<polyline clip-path=\"url(#clip3402)\" style=\"stroke:#000000; stroke-width:1.6; stroke-opacity:0.1; fill:none\" points=\"\n",
       "  1273.36,1503.47 1273.36,47.2441 \n",
       "  \"/>\n",
       "<polyline clip-path=\"url(#clip3402)\" style=\"stroke:#000000; stroke-width:1.6; stroke-opacity:0.1; fill:none\" points=\"\n",
       "  1653.58,1503.47 1653.58,47.2441 \n",
       "  \"/>\n",
       "<polyline clip-path=\"url(#clip3402)\" style=\"stroke:#000000; stroke-width:1.6; stroke-opacity:0.1; fill:none\" points=\"\n",
       "  2033.81,1503.47 2033.81,47.2441 \n",
       "  \"/>\n",
       "<polyline clip-path=\"url(#clip3402)\" style=\"stroke:#000000; stroke-width:1.6; stroke-opacity:0.1; fill:none\" points=\"\n",
       "  225.46,1212.6 2321.26,1212.6 \n",
       "  \"/>\n",
       "<polyline clip-path=\"url(#clip3402)\" style=\"stroke:#000000; stroke-width:1.6; stroke-opacity:0.1; fill:none\" points=\"\n",
       "  225.46,913.668 2321.26,913.668 \n",
       "  \"/>\n",
       "<polyline clip-path=\"url(#clip3402)\" style=\"stroke:#000000; stroke-width:1.6; stroke-opacity:0.1; fill:none\" points=\"\n",
       "  225.46,614.735 2321.26,614.735 \n",
       "  \"/>\n",
       "<polyline clip-path=\"url(#clip3402)\" style=\"stroke:#000000; stroke-width:1.6; stroke-opacity:0.1; fill:none\" points=\"\n",
       "  225.46,315.801 2321.26,315.801 \n",
       "  \"/>\n",
       "<polyline clip-path=\"url(#clip3400)\" style=\"stroke:#000000; stroke-width:3.2; stroke-opacity:1; fill:none\" points=\"\n",
       "  225.46,1503.47 2321.26,1503.47 \n",
       "  \"/>\n",
       "<polyline clip-path=\"url(#clip3400)\" style=\"stroke:#000000; stroke-width:3.2; stroke-opacity:1; fill:none\" points=\"\n",
       "  225.46,1503.47 225.46,47.2441 \n",
       "  \"/>\n",
       "<polyline clip-path=\"url(#clip3400)\" style=\"stroke:#000000; stroke-width:3.2; stroke-opacity:1; fill:none\" points=\"\n",
       "  512.91,1503.47 512.91,1481.63 \n",
       "  \"/>\n",
       "<polyline clip-path=\"url(#clip3400)\" style=\"stroke:#000000; stroke-width:3.2; stroke-opacity:1; fill:none\" points=\"\n",
       "  893.135,1503.47 893.135,1481.63 \n",
       "  \"/>\n",
       "<polyline clip-path=\"url(#clip3400)\" style=\"stroke:#000000; stroke-width:3.2; stroke-opacity:1; fill:none\" points=\"\n",
       "  1273.36,1503.47 1273.36,1481.63 \n",
       "  \"/>\n",
       "<polyline clip-path=\"url(#clip3400)\" style=\"stroke:#000000; stroke-width:3.2; stroke-opacity:1; fill:none\" points=\"\n",
       "  1653.58,1503.47 1653.58,1481.63 \n",
       "  \"/>\n",
       "<polyline clip-path=\"url(#clip3400)\" style=\"stroke:#000000; stroke-width:3.2; stroke-opacity:1; fill:none\" points=\"\n",
       "  2033.81,1503.47 2033.81,1481.63 \n",
       "  \"/>\n",
       "<polyline clip-path=\"url(#clip3400)\" style=\"stroke:#000000; stroke-width:3.2; stroke-opacity:1; fill:none\" points=\"\n",
       "  225.46,1212.6 256.897,1212.6 \n",
       "  \"/>\n",
       "<polyline clip-path=\"url(#clip3400)\" style=\"stroke:#000000; stroke-width:3.2; stroke-opacity:1; fill:none\" points=\"\n",
       "  225.46,913.668 256.897,913.668 \n",
       "  \"/>\n",
       "<polyline clip-path=\"url(#clip3400)\" style=\"stroke:#000000; stroke-width:3.2; stroke-opacity:1; fill:none\" points=\"\n",
       "  225.46,614.735 256.897,614.735 \n",
       "  \"/>\n",
       "<polyline clip-path=\"url(#clip3400)\" style=\"stroke:#000000; stroke-width:3.2; stroke-opacity:1; fill:none\" points=\"\n",
       "  225.46,315.801 256.897,315.801 \n",
       "  \"/>\n",
       "<g clip-path=\"url(#clip3400)\">\n",
       "<text style=\"fill:#000000; fill-opacity:1; font-family:Arial,Helvetica Neue,Helvetica,sans-serif; font-size:48px; text-anchor:middle;\" transform=\"rotate(0, 512.91, 1557.47)\" x=\"512.91\" y=\"1557.47\">2.5</text>\n",
       "</g>\n",
       "<g clip-path=\"url(#clip3400)\">\n",
       "<text style=\"fill:#000000; fill-opacity:1; font-family:Arial,Helvetica Neue,Helvetica,sans-serif; font-size:48px; text-anchor:middle;\" transform=\"rotate(0, 893.135, 1557.47)\" x=\"893.135\" y=\"1557.47\">5.0</text>\n",
       "</g>\n",
       "<g clip-path=\"url(#clip3400)\">\n",
       "<text style=\"fill:#000000; fill-opacity:1; font-family:Arial,Helvetica Neue,Helvetica,sans-serif; font-size:48px; text-anchor:middle;\" transform=\"rotate(0, 1273.36, 1557.47)\" x=\"1273.36\" y=\"1557.47\">7.5</text>\n",
       "</g>\n",
       "<g clip-path=\"url(#clip3400)\">\n",
       "<text style=\"fill:#000000; fill-opacity:1; font-family:Arial,Helvetica Neue,Helvetica,sans-serif; font-size:48px; text-anchor:middle;\" transform=\"rotate(0, 1653.58, 1557.47)\" x=\"1653.58\" y=\"1557.47\">10.0</text>\n",
       "</g>\n",
       "<g clip-path=\"url(#clip3400)\">\n",
       "<text style=\"fill:#000000; fill-opacity:1; font-family:Arial,Helvetica Neue,Helvetica,sans-serif; font-size:48px; text-anchor:middle;\" transform=\"rotate(0, 2033.81, 1557.47)\" x=\"2033.81\" y=\"1557.47\">12.5</text>\n",
       "</g>\n",
       "<g clip-path=\"url(#clip3400)\">\n",
       "<text style=\"fill:#000000; fill-opacity:1; font-family:Arial,Helvetica Neue,Helvetica,sans-serif; font-size:48px; text-anchor:start;\" transform=\"rotate(0, 92.4793, 1236.33)\" x=\"92.4793\" y=\"1236.33\">10</text>\n",
       "</g>\n",
       "<g clip-path=\"url(#clip3400)\">\n",
       "<text style=\"fill:#000000; fill-opacity:1; font-family:Arial,Helvetica Neue,Helvetica,sans-serif; font-size:38px; text-anchor:start;\" transform=\"rotate(0, 146.004, 1208.92)\" x=\"146.004\" y=\"1208.92\">-</text>\n",
       "</g>\n",
       "<g clip-path=\"url(#clip3400)\">\n",
       "<text style=\"fill:#000000; fill-opacity:1; font-family:Arial,Helvetica Neue,Helvetica,sans-serif; font-size:38px; text-anchor:start;\" transform=\"rotate(0, 168.843, 1208.92)\" x=\"168.843\" y=\"1208.92\">8 </text>\n",
       "</g>\n",
       "<g clip-path=\"url(#clip3400)\">\n",
       "<text style=\"fill:#000000; fill-opacity:1; font-family:Arial,Helvetica Neue,Helvetica,sans-serif; font-size:48px; text-anchor:start;\" transform=\"rotate(0, 92.4793, 937.396)\" x=\"92.4793\" y=\"937.396\">10</text>\n",
       "</g>\n",
       "<g clip-path=\"url(#clip3400)\">\n",
       "<text style=\"fill:#000000; fill-opacity:1; font-family:Arial,Helvetica Neue,Helvetica,sans-serif; font-size:38px; text-anchor:start;\" transform=\"rotate(0, 146.004, 909.985)\" x=\"146.004\" y=\"909.985\">-</text>\n",
       "</g>\n",
       "<g clip-path=\"url(#clip3400)\">\n",
       "<text style=\"fill:#000000; fill-opacity:1; font-family:Arial,Helvetica Neue,Helvetica,sans-serif; font-size:38px; text-anchor:start;\" transform=\"rotate(0, 168.843, 909.985)\" x=\"168.843\" y=\"909.985\">6 </text>\n",
       "</g>\n",
       "<g clip-path=\"url(#clip3400)\">\n",
       "<text style=\"fill:#000000; fill-opacity:1; font-family:Arial,Helvetica Neue,Helvetica,sans-serif; font-size:48px; text-anchor:start;\" transform=\"rotate(0, 92.4793, 638.462)\" x=\"92.4793\" y=\"638.462\">10</text>\n",
       "</g>\n",
       "<g clip-path=\"url(#clip3400)\">\n",
       "<text style=\"fill:#000000; fill-opacity:1; font-family:Arial,Helvetica Neue,Helvetica,sans-serif; font-size:38px; text-anchor:start;\" transform=\"rotate(0, 146.004, 611.052)\" x=\"146.004\" y=\"611.052\">-</text>\n",
       "</g>\n",
       "<g clip-path=\"url(#clip3400)\">\n",
       "<text style=\"fill:#000000; fill-opacity:1; font-family:Arial,Helvetica Neue,Helvetica,sans-serif; font-size:38px; text-anchor:start;\" transform=\"rotate(0, 168.843, 611.052)\" x=\"168.843\" y=\"611.052\">4 </text>\n",
       "</g>\n",
       "<g clip-path=\"url(#clip3400)\">\n",
       "<text style=\"fill:#000000; fill-opacity:1; font-family:Arial,Helvetica Neue,Helvetica,sans-serif; font-size:48px; text-anchor:start;\" transform=\"rotate(0, 92.4793, 339.529)\" x=\"92.4793\" y=\"339.529\">10</text>\n",
       "</g>\n",
       "<g clip-path=\"url(#clip3400)\">\n",
       "<text style=\"fill:#000000; fill-opacity:1; font-family:Arial,Helvetica Neue,Helvetica,sans-serif; font-size:38px; text-anchor:start;\" transform=\"rotate(0, 146.004, 312.118)\" x=\"146.004\" y=\"312.118\">-</text>\n",
       "</g>\n",
       "<g clip-path=\"url(#clip3400)\">\n",
       "<text style=\"fill:#000000; fill-opacity:1; font-family:Arial,Helvetica Neue,Helvetica,sans-serif; font-size:38px; text-anchor:start;\" transform=\"rotate(0, 168.843, 312.118)\" x=\"168.843\" y=\"312.118\">2 </text>\n",
       "</g>\n",
       "<polyline clip-path=\"url(#clip3402)\" style=\"stroke:#009af9; stroke-width:3.2; stroke-opacity:1; fill:none\" points=\"\n",
       "  284.775,88.4582 436.865,156.318 588.955,230.494 741.045,314.495 893.135,408.019 1045.22,505.397 1197.31,608.704 1349.4,735.615 1501.49,915.975 1653.58,1183.86 \n",
       "  1805.67,1306.92 1957.76,1369.77 2109.85,1417.8 2261.94,1462.26 \n",
       "  \"/>\n",
       "<path clip-path=\"url(#clip3400)\" d=\"\n",
       "M1958.43 251.724 L2249.26 251.724 L2249.26 130.764 L1958.43 130.764  Z\n",
       "  \" fill=\"#ffffff\" fill-rule=\"evenodd\" fill-opacity=\"1\"/>\n",
       "<polyline clip-path=\"url(#clip3400)\" style=\"stroke:#000000; stroke-width:3.2; stroke-opacity:1; fill:none\" points=\"\n",
       "  1958.43,251.724 2249.26,251.724 2249.26,130.764 1958.43,130.764 1958.43,251.724 \n",
       "  \"/>\n",
       "<polyline clip-path=\"url(#clip3400)\" style=\"stroke:#009af9; stroke-width:3.2; stroke-opacity:1; fill:none\" points=\"\n",
       "  1982.43,191.244 2126.43,191.244 \n",
       "  \"/>\n",
       "<g clip-path=\"url(#clip3400)\">\n",
       "<text style=\"fill:#000000; fill-opacity:1; font-family:Arial,Helvetica Neue,Helvetica,sans-serif; font-size:48px; text-anchor:start;\" transform=\"rotate(0, 2150.43, 208.744)\" x=\"2150.43\" y=\"208.744\">y1</text>\n",
       "</g>\n",
       "</svg>\n"
      ]
     },
     "execution_count": 254,
     "metadata": {},
     "output_type": "execute_result"
    }
   ],
   "source": [
    "errs = zeros(J)\n",
    "for j = 1:J\n",
    "    errs[j] = norm(Xans - sols[j])/norm(Xans)\n",
    "end\n",
    "println(errs[end])\n",
    "plot(errs, yaxis=:log)\n"
   ]
  },
  {
   "cell_type": "code",
   "execution_count": 214,
   "metadata": {},
   "outputs": [
    {
     "name": "stdout",
     "output_type": "stream",
     "text": [
      "  0.000632 seconds (586 allocations: 120.047 KiB)\n"
     ]
    },
    {
     "data": {
      "text/plain": [
       "5×5 Array{Float64,2}:\n",
       " 0.60593    0.490893  0.128785  0.443684  0.309254\n",
       " 1.25013    0.95241   0.389248  0.479139  0.341305\n",
       " 1.00946    1.91146   0.445838  0.967346  0.605525\n",
       " 0.115655   0.435455  0.385542  0.78495   0.263608\n",
       " 0.268121  -0.652115  0.499053  0.183377  0.227925"
      ]
     },
     "execution_count": 214,
     "metadata": {},
     "output_type": "execute_result"
    }
   ],
   "source": [
    "@time ( X = adi(A,B,F,J,p,q)[end])"
   ]
  },
  {
   "cell_type": "code",
   "execution_count": 215,
   "metadata": {},
   "outputs": [
    {
     "name": "stdout",
     "output_type": "stream",
     "text": [
      "  0.000116 seconds (35 allocations: 7.438 KiB)\n"
     ]
    },
    {
     "data": {
      "text/plain": [
       "5×5 Array{Float64,2}:\n",
       " 0.487878  0.906489    0.103117  0.183143  0.556758 \n",
       " 0.774915  0.882764    0.228974  0.853652  0.436912 \n",
       " 0.9978    0.938658    0.659623  0.675108  0.291431 \n",
       " 0.79438   0.115717    0.685151  0.437265  0.0261749\n",
       " 0.623682  0.00306229  0.60842   0.315713  0.4214   "
      ]
     },
     "execution_count": 215,
     "metadata": {},
     "output_type": "execute_result"
    }
   ],
   "source": [
    "@time Xcon = sylvester(A,-1 .* B,-1 .* F)"
   ]
  },
  {
   "cell_type": "code",
   "execution_count": 216,
   "metadata": {},
   "outputs": [
    {
     "data": {
      "text/plain": [
       "1.7332031187141917e-15"
      ]
     },
     "execution_count": 216,
     "metadata": {},
     "output_type": "execute_result"
    }
   ],
   "source": [
    "norm(Xcon - Xans)/norm(Xans)"
   ]
  },
  {
   "cell_type": "code",
   "execution_count": 217,
   "metadata": {},
   "outputs": [
    {
     "name": "stdout",
     "output_type": "stream",
     "text": [
      "  0.000399 seconds (61 allocations: 11.719 KiB)\n"
     ]
    },
    {
     "data": {
      "text/plain": [
       "3-element Array{Any,1}:\n",
       " [-0.0110871 -0.0175018 … -0.00523888 -0.0102958; -0.0216156 -0.0198263 … -0.0217807 -0.0105479; … ; -0.0198421 -0.000861244 … -0.0102923 0.00118843; -0.019877 -0.00170121 … -0.0109108 -0.00983775]\n",
       " [-0.0240488 -0.03786 … -0.0113896 -0.022267; -0.0469868 -0.0429341 … -0.0472829 -0.0228612; … ; -0.0430626 -0.00181625 … -0.0223168 0.00262961; -0.0432555 -0.00368516 … -0.0237514 -0.0213028]     \n",
       " [-0.0400047 -0.0627728 … -0.0189982 -0.0369093; -0.0783631 -0.0712757 … -0.0787309 -0.0379915; … ; -0.0716799 -0.00291722 … -0.0371067 0.00447826; -0.0722359 -0.00611852 … -0.0396797 -0.035363]   "
      ]
     },
     "execution_count": 217,
     "metadata": {},
     "output_type": "execute_result"
    }
   ],
   "source": [
    "@time adi(A,B,F,N,p,q)"
   ]
  },
  {
   "cell_type": "code",
   "execution_count": 218,
   "metadata": {},
   "outputs": [
    {
     "name": "stdout",
     "output_type": "stream",
     "text": [
      "final error, 2.0276250583521207e6\n"
     ]
    },
    {
     "data": {
      "image/svg+xml": [
       "<?xml version=\"1.0\" encoding=\"utf-8\"?>\n",
       "<svg xmlns=\"http://www.w3.org/2000/svg\" xmlns:xlink=\"http://www.w3.org/1999/xlink\" width=\"600\" height=\"400\" viewBox=\"0 0 2400 1600\">\n",
       "<defs>\n",
       "  <clipPath id=\"clip1800\">\n",
       "    <rect x=\"0\" y=\"0\" width=\"2400\" height=\"1600\"/>\n",
       "  </clipPath>\n",
       "</defs>\n",
       "<path clip-path=\"url(#clip1800)\" d=\"\n",
       "M0 1600 L2400 1600 L2400 0 L0 0  Z\n",
       "  \" fill=\"#ffffff\" fill-rule=\"evenodd\" fill-opacity=\"1\"/>\n",
       "<defs>\n",
       "  <clipPath id=\"clip1801\">\n",
       "    <rect x=\"480\" y=\"0\" width=\"1681\" height=\"1600\"/>\n",
       "  </clipPath>\n",
       "</defs>\n",
       "<path clip-path=\"url(#clip1800)\" d=\"\n",
       "M197.35 1503.47 L2321.26 1503.47 L2321.26 47.2441 L197.35 47.2441  Z\n",
       "  \" fill=\"#ffffff\" fill-rule=\"evenodd\" fill-opacity=\"1\"/>\n",
       "<defs>\n",
       "  <clipPath id=\"clip1802\">\n",
       "    <rect x=\"197\" y=\"47\" width=\"2125\" height=\"1457\"/>\n",
       "  </clipPath>\n",
       "</defs>\n",
       "<polyline clip-path=\"url(#clip1802)\" style=\"stroke:#000000; stroke-width:1.6; stroke-opacity:0.1; fill:none\" points=\"\n",
       "  543.702,1503.47 543.702,47.2441 \n",
       "  \"/>\n",
       "<polyline clip-path=\"url(#clip1802)\" style=\"stroke:#000000; stroke-width:1.6; stroke-opacity:0.1; fill:none\" points=\"\n",
       "  901.503,1503.47 901.503,47.2441 \n",
       "  \"/>\n",
       "<polyline clip-path=\"url(#clip1802)\" style=\"stroke:#000000; stroke-width:1.6; stroke-opacity:0.1; fill:none\" points=\"\n",
       "  1259.3,1503.47 1259.3,47.2441 \n",
       "  \"/>\n",
       "<polyline clip-path=\"url(#clip1802)\" style=\"stroke:#000000; stroke-width:1.6; stroke-opacity:0.1; fill:none\" points=\"\n",
       "  1617.11,1503.47 1617.11,47.2441 \n",
       "  \"/>\n",
       "<polyline clip-path=\"url(#clip1802)\" style=\"stroke:#000000; stroke-width:1.6; stroke-opacity:0.1; fill:none\" points=\"\n",
       "  1974.91,1503.47 1974.91,47.2441 \n",
       "  \"/>\n",
       "<polyline clip-path=\"url(#clip1802)\" style=\"stroke:#000000; stroke-width:1.6; stroke-opacity:0.1; fill:none\" points=\"\n",
       "  197.35,1463.97 2321.26,1463.97 \n",
       "  \"/>\n",
       "<polyline clip-path=\"url(#clip1802)\" style=\"stroke:#000000; stroke-width:1.6; stroke-opacity:0.1; fill:none\" points=\"\n",
       "  197.35,1254.39 2321.26,1254.39 \n",
       "  \"/>\n",
       "<polyline clip-path=\"url(#clip1802)\" style=\"stroke:#000000; stroke-width:1.6; stroke-opacity:0.1; fill:none\" points=\"\n",
       "  197.35,1044.8 2321.26,1044.8 \n",
       "  \"/>\n",
       "<polyline clip-path=\"url(#clip1802)\" style=\"stroke:#000000; stroke-width:1.6; stroke-opacity:0.1; fill:none\" points=\"\n",
       "  197.35,835.219 2321.26,835.219 \n",
       "  \"/>\n",
       "<polyline clip-path=\"url(#clip1802)\" style=\"stroke:#000000; stroke-width:1.6; stroke-opacity:0.1; fill:none\" points=\"\n",
       "  197.35,625.636 2321.26,625.636 \n",
       "  \"/>\n",
       "<polyline clip-path=\"url(#clip1802)\" style=\"stroke:#000000; stroke-width:1.6; stroke-opacity:0.1; fill:none\" points=\"\n",
       "  197.35,416.053 2321.26,416.053 \n",
       "  \"/>\n",
       "<polyline clip-path=\"url(#clip1802)\" style=\"stroke:#000000; stroke-width:1.6; stroke-opacity:0.1; fill:none\" points=\"\n",
       "  197.35,206.469 2321.26,206.469 \n",
       "  \"/>\n",
       "<polyline clip-path=\"url(#clip1800)\" style=\"stroke:#000000; stroke-width:3.2; stroke-opacity:1; fill:none\" points=\"\n",
       "  197.35,1503.47 2321.26,1503.47 \n",
       "  \"/>\n",
       "<polyline clip-path=\"url(#clip1800)\" style=\"stroke:#000000; stroke-width:3.2; stroke-opacity:1; fill:none\" points=\"\n",
       "  197.35,1503.47 197.35,47.2441 \n",
       "  \"/>\n",
       "<polyline clip-path=\"url(#clip1800)\" style=\"stroke:#000000; stroke-width:3.2; stroke-opacity:1; fill:none\" points=\"\n",
       "  543.702,1503.47 543.702,1481.63 \n",
       "  \"/>\n",
       "<polyline clip-path=\"url(#clip1800)\" style=\"stroke:#000000; stroke-width:3.2; stroke-opacity:1; fill:none\" points=\"\n",
       "  901.503,1503.47 901.503,1481.63 \n",
       "  \"/>\n",
       "<polyline clip-path=\"url(#clip1800)\" style=\"stroke:#000000; stroke-width:3.2; stroke-opacity:1; fill:none\" points=\"\n",
       "  1259.3,1503.47 1259.3,1481.63 \n",
       "  \"/>\n",
       "<polyline clip-path=\"url(#clip1800)\" style=\"stroke:#000000; stroke-width:3.2; stroke-opacity:1; fill:none\" points=\"\n",
       "  1617.11,1503.47 1617.11,1481.63 \n",
       "  \"/>\n",
       "<polyline clip-path=\"url(#clip1800)\" style=\"stroke:#000000; stroke-width:3.2; stroke-opacity:1; fill:none\" points=\"\n",
       "  1974.91,1503.47 1974.91,1481.63 \n",
       "  \"/>\n",
       "<polyline clip-path=\"url(#clip1800)\" style=\"stroke:#000000; stroke-width:3.2; stroke-opacity:1; fill:none\" points=\"\n",
       "  197.35,1463.97 229.209,1463.97 \n",
       "  \"/>\n",
       "<polyline clip-path=\"url(#clip1800)\" style=\"stroke:#000000; stroke-width:3.2; stroke-opacity:1; fill:none\" points=\"\n",
       "  197.35,1254.39 229.209,1254.39 \n",
       "  \"/>\n",
       "<polyline clip-path=\"url(#clip1800)\" style=\"stroke:#000000; stroke-width:3.2; stroke-opacity:1; fill:none\" points=\"\n",
       "  197.35,1044.8 229.209,1044.8 \n",
       "  \"/>\n",
       "<polyline clip-path=\"url(#clip1800)\" style=\"stroke:#000000; stroke-width:3.2; stroke-opacity:1; fill:none\" points=\"\n",
       "  197.35,835.219 229.209,835.219 \n",
       "  \"/>\n",
       "<polyline clip-path=\"url(#clip1800)\" style=\"stroke:#000000; stroke-width:3.2; stroke-opacity:1; fill:none\" points=\"\n",
       "  197.35,625.636 229.209,625.636 \n",
       "  \"/>\n",
       "<polyline clip-path=\"url(#clip1800)\" style=\"stroke:#000000; stroke-width:3.2; stroke-opacity:1; fill:none\" points=\"\n",
       "  197.35,416.053 229.209,416.053 \n",
       "  \"/>\n",
       "<polyline clip-path=\"url(#clip1800)\" style=\"stroke:#000000; stroke-width:3.2; stroke-opacity:1; fill:none\" points=\"\n",
       "  197.35,206.469 229.209,206.469 \n",
       "  \"/>\n",
       "<g clip-path=\"url(#clip1800)\">\n",
       "<text style=\"fill:#000000; fill-opacity:1; font-family:Arial,Helvetica Neue,Helvetica,sans-serif; font-size:48px; text-anchor:middle;\" transform=\"rotate(0, 543.702, 1557.47)\" x=\"543.702\" y=\"1557.47\">5</text>\n",
       "</g>\n",
       "<g clip-path=\"url(#clip1800)\">\n",
       "<text style=\"fill:#000000; fill-opacity:1; font-family:Arial,Helvetica Neue,Helvetica,sans-serif; font-size:48px; text-anchor:middle;\" transform=\"rotate(0, 901.503, 1557.47)\" x=\"901.503\" y=\"1557.47\">10</text>\n",
       "</g>\n",
       "<g clip-path=\"url(#clip1800)\">\n",
       "<text style=\"fill:#000000; fill-opacity:1; font-family:Arial,Helvetica Neue,Helvetica,sans-serif; font-size:48px; text-anchor:middle;\" transform=\"rotate(0, 1259.3, 1557.47)\" x=\"1259.3\" y=\"1557.47\">15</text>\n",
       "</g>\n",
       "<g clip-path=\"url(#clip1800)\">\n",
       "<text style=\"fill:#000000; fill-opacity:1; font-family:Arial,Helvetica Neue,Helvetica,sans-serif; font-size:48px; text-anchor:middle;\" transform=\"rotate(0, 1617.11, 1557.47)\" x=\"1617.11\" y=\"1557.47\">20</text>\n",
       "</g>\n",
       "<g clip-path=\"url(#clip1800)\">\n",
       "<text style=\"fill:#000000; fill-opacity:1; font-family:Arial,Helvetica Neue,Helvetica,sans-serif; font-size:48px; text-anchor:middle;\" transform=\"rotate(0, 1974.91, 1557.47)\" x=\"1974.91\" y=\"1557.47\">25</text>\n",
       "</g>\n",
       "<g clip-path=\"url(#clip1800)\">\n",
       "<text style=\"fill:#000000; fill-opacity:1; font-family:Arial,Helvetica Neue,Helvetica,sans-serif; font-size:48px; text-anchor:start;\" transform=\"rotate(0, 87.2086, 1487.7)\" x=\"87.2086\" y=\"1487.7\">10</text>\n",
       "</g>\n",
       "<g clip-path=\"url(#clip1800)\">\n",
       "<text style=\"fill:#000000; fill-opacity:1; font-family:Arial,Helvetica Neue,Helvetica,sans-serif; font-size:38px; text-anchor:start;\" transform=\"rotate(0, 140.733, 1460.29)\" x=\"140.733\" y=\"1460.29\">0 </text>\n",
       "</g>\n",
       "<g clip-path=\"url(#clip1800)\">\n",
       "<text style=\"fill:#000000; fill-opacity:1; font-family:Arial,Helvetica Neue,Helvetica,sans-serif; font-size:48px; text-anchor:start;\" transform=\"rotate(0, 87.2086, 1278.11)\" x=\"87.2086\" y=\"1278.11\">10</text>\n",
       "</g>\n",
       "<g clip-path=\"url(#clip1800)\">\n",
       "<text style=\"fill:#000000; fill-opacity:1; font-family:Arial,Helvetica Neue,Helvetica,sans-serif; font-size:38px; text-anchor:start;\" transform=\"rotate(0, 140.733, 1250.7)\" x=\"140.733\" y=\"1250.7\">1 </text>\n",
       "</g>\n",
       "<g clip-path=\"url(#clip1800)\">\n",
       "<text style=\"fill:#000000; fill-opacity:1; font-family:Arial,Helvetica Neue,Helvetica,sans-serif; font-size:48px; text-anchor:start;\" transform=\"rotate(0, 87.2086, 1068.53)\" x=\"87.2086\" y=\"1068.53\">10</text>\n",
       "</g>\n",
       "<g clip-path=\"url(#clip1800)\">\n",
       "<text style=\"fill:#000000; fill-opacity:1; font-family:Arial,Helvetica Neue,Helvetica,sans-serif; font-size:38px; text-anchor:start;\" transform=\"rotate(0, 140.733, 1041.12)\" x=\"140.733\" y=\"1041.12\">2 </text>\n",
       "</g>\n",
       "<g clip-path=\"url(#clip1800)\">\n",
       "<text style=\"fill:#000000; fill-opacity:1; font-family:Arial,Helvetica Neue,Helvetica,sans-serif; font-size:48px; text-anchor:start;\" transform=\"rotate(0, 87.2086, 858.947)\" x=\"87.2086\" y=\"858.947\">10</text>\n",
       "</g>\n",
       "<g clip-path=\"url(#clip1800)\">\n",
       "<text style=\"fill:#000000; fill-opacity:1; font-family:Arial,Helvetica Neue,Helvetica,sans-serif; font-size:38px; text-anchor:start;\" transform=\"rotate(0, 140.733, 831.537)\" x=\"140.733\" y=\"831.537\">3 </text>\n",
       "</g>\n",
       "<g clip-path=\"url(#clip1800)\">\n",
       "<text style=\"fill:#000000; fill-opacity:1; font-family:Arial,Helvetica Neue,Helvetica,sans-serif; font-size:48px; text-anchor:start;\" transform=\"rotate(0, 87.2086, 649.364)\" x=\"87.2086\" y=\"649.364\">10</text>\n",
       "</g>\n",
       "<g clip-path=\"url(#clip1800)\">\n",
       "<text style=\"fill:#000000; fill-opacity:1; font-family:Arial,Helvetica Neue,Helvetica,sans-serif; font-size:38px; text-anchor:start;\" transform=\"rotate(0, 140.733, 621.953)\" x=\"140.733\" y=\"621.953\">4 </text>\n",
       "</g>\n",
       "<g clip-path=\"url(#clip1800)\">\n",
       "<text style=\"fill:#000000; fill-opacity:1; font-family:Arial,Helvetica Neue,Helvetica,sans-serif; font-size:48px; text-anchor:start;\" transform=\"rotate(0, 87.2086, 439.78)\" x=\"87.2086\" y=\"439.78\">10</text>\n",
       "</g>\n",
       "<g clip-path=\"url(#clip1800)\">\n",
       "<text style=\"fill:#000000; fill-opacity:1; font-family:Arial,Helvetica Neue,Helvetica,sans-serif; font-size:38px; text-anchor:start;\" transform=\"rotate(0, 140.733, 412.37)\" x=\"140.733\" y=\"412.37\">5 </text>\n",
       "</g>\n",
       "<g clip-path=\"url(#clip1800)\">\n",
       "<text style=\"fill:#000000; fill-opacity:1; font-family:Arial,Helvetica Neue,Helvetica,sans-serif; font-size:48px; text-anchor:start;\" transform=\"rotate(0, 87.2086, 230.197)\" x=\"87.2086\" y=\"230.197\">10</text>\n",
       "</g>\n",
       "<g clip-path=\"url(#clip1800)\">\n",
       "<text style=\"fill:#000000; fill-opacity:1; font-family:Arial,Helvetica Neue,Helvetica,sans-serif; font-size:38px; text-anchor:start;\" transform=\"rotate(0, 140.733, 202.787)\" x=\"140.733\" y=\"202.787\">6 </text>\n",
       "</g>\n",
       "<polyline clip-path=\"url(#clip1802)\" style=\"stroke:#009af9; stroke-width:3.2; stroke-opacity:1; fill:none\" points=\"\n",
       "  257.461,1462.26 329.021,1460.25 400.581,1457.74 472.141,1454.51 543.702,1450.26 615.262,1444.57 686.822,1436.92 758.383,1426.59 829.943,1412.56 901.503,1393.47 \n",
       "  973.064,1367.36 1044.62,1331.42 1116.18,1281.31 1187.74,1209.51 1259.3,1098.65 1330.87,856.236 1402.43,511.61 1473.99,349.618 1545.55,247.948 1617.11,180.693 \n",
       "  1688.67,136.644 1760.23,109.244 1831.79,94.1435 1903.35,88.4582 1974.91,90.3928 2046.47,98.6535 2118.03,111.692 2189.59,127.192 2261.15,142.13 \n",
       "  \"/>\n",
       "<path clip-path=\"url(#clip1800)\" d=\"\n",
       "M1958.43 251.724 L2249.26 251.724 L2249.26 130.764 L1958.43 130.764  Z\n",
       "  \" fill=\"#ffffff\" fill-rule=\"evenodd\" fill-opacity=\"1\"/>\n",
       "<polyline clip-path=\"url(#clip1800)\" style=\"stroke:#000000; stroke-width:3.2; stroke-opacity:1; fill:none\" points=\"\n",
       "  1958.43,251.724 2249.26,251.724 2249.26,130.764 1958.43,130.764 1958.43,251.724 \n",
       "  \"/>\n",
       "<polyline clip-path=\"url(#clip1800)\" style=\"stroke:#009af9; stroke-width:3.2; stroke-opacity:1; fill:none\" points=\"\n",
       "  1982.43,191.244 2126.43,191.244 \n",
       "  \"/>\n",
       "<g clip-path=\"url(#clip1800)\">\n",
       "<text style=\"fill:#000000; fill-opacity:1; font-family:Arial,Helvetica Neue,Helvetica,sans-serif; font-size:48px; text-anchor:start;\" transform=\"rotate(0, 2150.43, 208.744)\" x=\"2150.43\" y=\"208.744\">y1</text>\n",
       "</g>\n",
       "</svg>\n"
      ]
     },
     "execution_count": 218,
     "metadata": {},
     "output_type": "execute_result"
    }
   ],
   "source": [
    "# med test\n",
    "\n",
    "#--- med Test\n",
    "temp = rand(50,50)\n",
    "Q,R = qr(temp)\n",
    "Aevals = [0.1:0.1:5;]\n",
    "Bevals = [10.1:0.1:15;]\n",
    "A = Q * Diagonal(Aevals) * Q'\n",
    "B = Q * Diagonal(Bevals) * Q'\n",
    "Xans = rand(50,50)\n",
    "F = A * Xans - Xans * B\n",
    "\n",
    "a = minimum(Aevals)\n",
    "b = maximum(Aevals)\n",
    "c = minimum(Bevals)\n",
    "d = maximum(Bevals)\n",
    "gamma = abs((c-a) * (d-b)  / (c-b)*(d-a))\n",
    "e = 10e-15\n",
    "J = 1 + trunc(Int, abs(log(16 * gamma) * log(4 / e)  / pi^2))\n",
    "#--- Run med Test\n",
    "p,q = adi_parameters(gamma, J)\n",
    "sols = adi(A,B,F,J,p,q)\n",
    "X = sols[end]\n",
    "#---\n",
    "\n",
    "errs = zeros(J)\n",
    "for j = 1:J\n",
    "    errs[j] = norm(Xans - sols[j])/norm(Xans)\n",
    "end\n",
    "println(\"final error, \" ,errs[end])\n",
    "plot(errs, yaxis=:log)\n"
   ]
  },
  {
   "cell_type": "code",
   "execution_count": 236,
   "metadata": {},
   "outputs": [
    {
     "name": "stdout",
     "output_type": "stream",
     "text": [
      "  0.003793 seconds (46 allocations: 287.422 KiB)\n",
      "  0.055848 seconds (98 allocations: 730.172 KiB)\n"
     ]
    },
    {
     "data": {
      "text/plain": [
       "50×50 Array{Float64,2}:\n",
       " -0.00932915  -0.0188889   -0.0598534   …  -0.0497392   -0.0620034 \n",
       " -0.0172839   -0.0447723   -0.0623085       0.00230715  -0.0542316 \n",
       "  0.00105069  -0.0571488   -0.0437746      -0.00804887  -0.0684998 \n",
       " -0.0443053   -0.0560349   -0.0353941      -0.0255017   -0.0225611 \n",
       " -0.0598235   -0.0483848   -0.0561527      -0.0457996   -0.020633  \n",
       " -0.0487406   -0.0634769   -0.0545173   …  -0.0631921   -0.0282794 \n",
       " -0.0479777   -0.0258949   -0.0548671      -0.0351758   -0.00375815\n",
       " -0.0394758   -0.0618212   -0.0193005      -0.0708079   -0.0100852 \n",
       " -0.0241351   -0.0463384   -0.0448103      -0.0125736   -0.0149665 \n",
       " -0.0406702   -0.00459396  -0.0431018      -0.00462839  -0.0565527 \n",
       " -0.0100522   -0.0344351   -0.00633881  …  -0.0550611   -0.0708883 \n",
       " -0.0196233   -0.00470618  -0.0458705      -0.0686338   -0.0577069 \n",
       " -0.0640611   -0.0528395   -0.0132402      -0.0450301   -0.0411755 \n",
       "  ⋮                                     ⋱                          \n",
       " -0.00504382  -0.0419857   -0.0167866      -0.0279451   -0.0691331 \n",
       " -0.0122286   -0.0545219   -0.0409399      -0.00414916  -0.039491  \n",
       " -0.0577509   -0.060332    -0.0542139   …  -0.0233188   -0.0172083 \n",
       " -0.0700506   -0.00547457  -0.0535785      -0.0290522   -0.057567  \n",
       " -0.00580479  -0.053109    -0.0556275      -0.00501936  -0.0200016 \n",
       " -0.0701079   -0.0310276   -0.048812       -0.02242     -0.0352628 \n",
       " -0.0317151   -0.0414262   -0.0386075      -0.0378208   -0.0223649 \n",
       " -0.058098    -0.0208715   -0.0457142   …  -0.0631783   -0.0210461 \n",
       " -0.0460758   -0.0284075   -0.0226806      -0.0640724   -0.039833  \n",
       " -0.0483002   -0.0312381   -0.0166573      -0.0237445   -0.0173321 \n",
       " -0.0736532   -0.0539227   -0.00428721     -0.00561916  -0.0512365 \n",
       " -0.0135837   -0.0426475   -0.0539058       0.00138443  -0.0606232 "
      ]
     },
     "execution_count": 236,
     "metadata": {},
     "output_type": "execute_result"
    }
   ],
   "source": [
    "@time Xcon = sylvester(A,-1 .* B,-1 .* F)\n",
    "@time X = adi(A,B,F,N,p,q)[end]"
   ]
  },
  {
   "cell_type": "markdown",
   "metadata": {},
   "source": [
    "Wonder why the time fluctuates so much"
   ]
  }
 ],
 "metadata": {
  "kernelspec": {
   "display_name": "Julia 1.1.0",
   "language": "julia",
   "name": "julia-1.1"
  },
  "language_info": {
   "file_extension": ".jl",
   "mimetype": "application/julia",
   "name": "julia",
   "version": "1.1.0"
  }
 },
 "nbformat": 4,
 "nbformat_minor": 2
}
