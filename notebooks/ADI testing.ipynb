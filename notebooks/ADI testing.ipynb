{
 "cells": [
  {
   "cell_type": "markdown",
   "metadata": {},
   "source": [
    "# In this notebook\n",
    "- Randomized iterative methods (Gower's paper)\n",
    "- Using them to linear solve matrices AX = B\n",
    "- ADI \n",
    "\n",
    "All are tested very loosely with small matrices. A more formal unit test suite can be found in the project in `../src`."
   ]
  },
  {
   "cell_type": "code",
   "execution_count": 154,
   "metadata": {},
   "outputs": [
    {
     "name": "stderr",
     "output_type": "stream",
     "text": [
      "┌ Info: Precompiling Plots [91a5bcdd-55d7-5caf-9e0b-520d859cae80]\n",
      "└ @ Base loading.jl:1242\n"
     ]
    }
   ],
   "source": [
    "using Random\n",
    "using LinearAlgebra\n",
    "using SparseArrays\n",
    "using Plots\n",
    "# using Printf"
   ]
  },
  {
   "cell_type": "markdown",
   "metadata": {},
   "source": [
    "## Sketch and project\n",
    "\n",
    "Solves $Ax = b$"
   ]
  },
  {
   "cell_type": "code",
   "execution_count": 180,
   "metadata": {},
   "outputs": [
    {
     "data": {
      "text/plain": [
       "rand_linsolve (generic function with 4 methods)"
      ]
     },
     "execution_count": 180,
     "metadata": {},
     "output_type": "execute_result"
    }
   ],
   "source": [
    "function rand_linsolve(A,b,B, Stype, seed=nothing)\n",
    "    \"\"\"\n",
    "    Solves using randomized kaczmarz.\n",
    "    Randomly selects a row per iteration to update x with\n",
    "    \n",
    "    INPUT:  matrix A mxn, \n",
    "            vector b mx1,\n",
    "            matrix B nxn\n",
    "            string Stype: \"coordvec\", \"\"\n",
    "            \n",
    "    OUTPUT: vector x nx1 that solves Ax = b\n",
    "    \"\"\"\n",
    "    m,n = size(A)\n",
    "    x0 = ones(n)\n",
    "    sols = [x0] # list of x_0 ... x_n\n",
    "    errs = zeros(0)\n",
    "    if seed != nothing\n",
    "        Random.seed!(seed)\n",
    "    end\n",
    "    @assert Stype == \"coordvec\"\n",
    "    \n",
    "    Binv = inv(B)\n",
    "    xprev = x0\n",
    "    while(true)\n",
    "        \n",
    "        i = rand(1:m)\n",
    "        \n",
    "        # S is a unit coordinate vector (temporary)\n",
    "        S = zeros(m)\n",
    "        S[i] = 1\n",
    "        \n",
    "        C = Binv * A' * S * pinv(S' * A * Binv * A' * S) * S'      \n",
    "        res = A * xprev - b\n",
    "        xnew = xprev - C * res\n",
    "\n",
    "        \n",
    "        push!(sols, xnew)\n",
    "#         println(\"=====asdf!!!!! =====\")\n",
    "        err = norm(A * xnew - b)\n",
    "#         println(errors)\n",
    "#         println(err)\n",
    "        push!(errs,err)\n",
    "#         println(\"=====HELLO!!!!! =====\")\n",
    "        \n",
    "        \n",
    "        if err < 1e-5\n",
    "            break\n",
    "        end\n",
    "        \n",
    "        xprev = xnew\n",
    "    end\n",
    "    \n",
    "    return sols,errs\n",
    "end"
   ]
  },
  {
   "cell_type": "code",
   "execution_count": 181,
   "metadata": {},
   "outputs": [
    {
     "data": {
      "text/plain": [
       "3×5 Array{Float64,2}:\n",
       " 0.414729  0.0425996  0.288542  0.88546   0.161144\n",
       " 0.545062  0.42695    0.272621  0.147544  0.262937\n",
       " 0.275383  0.468115   0.59634   0.876637  0.942458"
      ]
     },
     "metadata": {},
     "output_type": "display_data"
    },
    {
     "data": {
      "text/plain": [
       "3-element Array{Float64,1}:\n",
       " 0.9268565922365832\n",
       " 0.6445268039216541\n",
       " 0.3952846356052906"
      ]
     },
     "metadata": {},
     "output_type": "display_data"
    },
    {
     "data": {
      "text/plain": [
       "UniformScaling{Bool}\n",
       "true*I"
      ]
     },
     "metadata": {},
     "output_type": "display_data"
    },
    {
     "name": "stdout",
     "output_type": "stream",
     "text": [
      "done\n"
     ]
    }
   ],
   "source": [
    "seed = 0\n",
    "\n",
    "A = rand(Float64,3,5)\n",
    "b = rand(Float64,3)\n",
    "B = I # n x n \n",
    "display(\"text/plain\",A)\n",
    "display(\"text/plain\",b)\n",
    "display(\"text/plain\",B)\n",
    "\n",
    "sols,errs = rand_linsolve(A,b, B,\"coordvec\", seed)\n",
    "println(\"done\")"
   ]
  },
  {
   "cell_type": "code",
   "execution_count": 184,
   "metadata": {},
   "outputs": [
    {
     "name": "stdout",
     "output_type": "stream",
     "text": [
      "(181,)\n"
     ]
    },
    {
     "data": {
      "image/svg+xml": [
       "<?xml version=\"1.0\" encoding=\"utf-8\"?>\n",
       "<svg xmlns=\"http://www.w3.org/2000/svg\" xmlns:xlink=\"http://www.w3.org/1999/xlink\" width=\"600\" height=\"400\" viewBox=\"0 0 2400 1600\">\n",
       "<defs>\n",
       "  <clipPath id=\"clip5000\">\n",
       "    <rect x=\"0\" y=\"0\" width=\"2400\" height=\"1600\"/>\n",
       "  </clipPath>\n",
       "</defs>\n",
       "<polygon clip-path=\"url(#clip5000)\" points=\"\n",
       "0,1600 2400,1600 2400,0 0,0 \n",
       "  \" fill=\"#ffffff\" fill-rule=\"evenodd\" fill-opacity=\"1\"/>\n",
       "<defs>\n",
       "  <clipPath id=\"clip5001\">\n",
       "    <rect x=\"480\" y=\"0\" width=\"1681\" height=\"1600\"/>\n",
       "  </clipPath>\n",
       "</defs>\n",
       "<polygon clip-path=\"url(#clip5000)\" points=\"\n",
       "153.898,1487.47 2352.76,1487.47 2352.76,47.2441 153.898,47.2441 \n",
       "  \" fill=\"#ffffff\" fill-rule=\"evenodd\" fill-opacity=\"1\"/>\n",
       "<defs>\n",
       "  <clipPath id=\"clip5002\">\n",
       "    <rect x=\"153\" y=\"47\" width=\"2200\" height=\"1441\"/>\n",
       "  </clipPath>\n",
       "</defs>\n",
       "<polyline clip-path=\"url(#clip5002)\" style=\"stroke:#000000; stroke-width:2; stroke-opacity:0.1; fill:none\" points=\"\n",
       "  204.605,1487.47 204.605,47.2441 \n",
       "  \"/>\n",
       "<polyline clip-path=\"url(#clip5002)\" style=\"stroke:#000000; stroke-width:2; stroke-opacity:0.1; fill:none\" points=\"\n",
       "  780.826,1487.47 780.826,47.2441 \n",
       "  \"/>\n",
       "<polyline clip-path=\"url(#clip5002)\" style=\"stroke:#000000; stroke-width:2; stroke-opacity:0.1; fill:none\" points=\"\n",
       "  1357.05,1487.47 1357.05,47.2441 \n",
       "  \"/>\n",
       "<polyline clip-path=\"url(#clip5002)\" style=\"stroke:#000000; stroke-width:2; stroke-opacity:0.1; fill:none\" points=\"\n",
       "  1933.27,1487.47 1933.27,47.2441 \n",
       "  \"/>\n",
       "<polyline clip-path=\"url(#clip5002)\" style=\"stroke:#000000; stroke-width:2; stroke-opacity:0.1; fill:none\" points=\"\n",
       "  153.898,1446.72 2352.76,1446.72 \n",
       "  \"/>\n",
       "<polyline clip-path=\"url(#clip5002)\" style=\"stroke:#000000; stroke-width:2; stroke-opacity:0.1; fill:none\" points=\"\n",
       "  153.898,1082.33 2352.76,1082.33 \n",
       "  \"/>\n",
       "<polyline clip-path=\"url(#clip5002)\" style=\"stroke:#000000; stroke-width:2; stroke-opacity:0.1; fill:none\" points=\"\n",
       "  153.898,717.949 2352.76,717.949 \n",
       "  \"/>\n",
       "<polyline clip-path=\"url(#clip5002)\" style=\"stroke:#000000; stroke-width:2; stroke-opacity:0.1; fill:none\" points=\"\n",
       "  153.898,353.563 2352.76,353.563 \n",
       "  \"/>\n",
       "<polyline clip-path=\"url(#clip5000)\" style=\"stroke:#000000; stroke-width:4; stroke-opacity:1; fill:none\" points=\"\n",
       "  153.898,1487.47 2352.76,1487.47 \n",
       "  \"/>\n",
       "<polyline clip-path=\"url(#clip5000)\" style=\"stroke:#000000; stroke-width:4; stroke-opacity:1; fill:none\" points=\"\n",
       "  153.898,1487.47 153.898,47.2441 \n",
       "  \"/>\n",
       "<polyline clip-path=\"url(#clip5000)\" style=\"stroke:#000000; stroke-width:4; stroke-opacity:1; fill:none\" points=\"\n",
       "  204.605,1487.47 204.605,1465.87 \n",
       "  \"/>\n",
       "<polyline clip-path=\"url(#clip5000)\" style=\"stroke:#000000; stroke-width:4; stroke-opacity:1; fill:none\" points=\"\n",
       "  780.826,1487.47 780.826,1465.87 \n",
       "  \"/>\n",
       "<polyline clip-path=\"url(#clip5000)\" style=\"stroke:#000000; stroke-width:4; stroke-opacity:1; fill:none\" points=\"\n",
       "  1357.05,1487.47 1357.05,1465.87 \n",
       "  \"/>\n",
       "<polyline clip-path=\"url(#clip5000)\" style=\"stroke:#000000; stroke-width:4; stroke-opacity:1; fill:none\" points=\"\n",
       "  1933.27,1487.47 1933.27,1465.87 \n",
       "  \"/>\n",
       "<polyline clip-path=\"url(#clip5000)\" style=\"stroke:#000000; stroke-width:4; stroke-opacity:1; fill:none\" points=\"\n",
       "  153.898,1446.72 186.881,1446.72 \n",
       "  \"/>\n",
       "<polyline clip-path=\"url(#clip5000)\" style=\"stroke:#000000; stroke-width:4; stroke-opacity:1; fill:none\" points=\"\n",
       "  153.898,1082.33 186.881,1082.33 \n",
       "  \"/>\n",
       "<polyline clip-path=\"url(#clip5000)\" style=\"stroke:#000000; stroke-width:4; stroke-opacity:1; fill:none\" points=\"\n",
       "  153.898,717.949 186.881,717.949 \n",
       "  \"/>\n",
       "<polyline clip-path=\"url(#clip5000)\" style=\"stroke:#000000; stroke-width:4; stroke-opacity:1; fill:none\" points=\"\n",
       "  153.898,353.563 186.881,353.563 \n",
       "  \"/>\n",
       "<g clip-path=\"url(#clip5000)\">\n",
       "<text style=\"fill:#000000; fill-opacity:1; font-family:Arial,Helvetica Neue,Helvetica,sans-serif; font-size:48px; text-anchor:middle;\" transform=\"rotate(0, 204.605, 1541.47)\" x=\"204.605\" y=\"1541.47\">0</text>\n",
       "</g>\n",
       "<g clip-path=\"url(#clip5000)\">\n",
       "<text style=\"fill:#000000; fill-opacity:1; font-family:Arial,Helvetica Neue,Helvetica,sans-serif; font-size:48px; text-anchor:middle;\" transform=\"rotate(0, 780.826, 1541.47)\" x=\"780.826\" y=\"1541.47\">50</text>\n",
       "</g>\n",
       "<g clip-path=\"url(#clip5000)\">\n",
       "<text style=\"fill:#000000; fill-opacity:1; font-family:Arial,Helvetica Neue,Helvetica,sans-serif; font-size:48px; text-anchor:middle;\" transform=\"rotate(0, 1357.05, 1541.47)\" x=\"1357.05\" y=\"1541.47\">100</text>\n",
       "</g>\n",
       "<g clip-path=\"url(#clip5000)\">\n",
       "<text style=\"fill:#000000; fill-opacity:1; font-family:Arial,Helvetica Neue,Helvetica,sans-serif; font-size:48px; text-anchor:middle;\" transform=\"rotate(0, 1933.27, 1541.47)\" x=\"1933.27\" y=\"1541.47\">150</text>\n",
       "</g>\n",
       "<g clip-path=\"url(#clip5000)\">\n",
       "<text style=\"fill:#000000; fill-opacity:1; font-family:Arial,Helvetica Neue,Helvetica,sans-serif; font-size:48px; text-anchor:end;\" transform=\"rotate(0, 129.898, 1464.22)\" x=\"129.898\" y=\"1464.22\">0.0</text>\n",
       "</g>\n",
       "<g clip-path=\"url(#clip5000)\">\n",
       "<text style=\"fill:#000000; fill-opacity:1; font-family:Arial,Helvetica Neue,Helvetica,sans-serif; font-size:48px; text-anchor:end;\" transform=\"rotate(0, 129.898, 1099.83)\" x=\"129.898\" y=\"1099.83\">0.5</text>\n",
       "</g>\n",
       "<g clip-path=\"url(#clip5000)\">\n",
       "<text style=\"fill:#000000; fill-opacity:1; font-family:Arial,Helvetica Neue,Helvetica,sans-serif; font-size:48px; text-anchor:end;\" transform=\"rotate(0, 129.898, 735.449)\" x=\"129.898\" y=\"735.449\">1.0</text>\n",
       "</g>\n",
       "<g clip-path=\"url(#clip5000)\">\n",
       "<text style=\"fill:#000000; fill-opacity:1; font-family:Arial,Helvetica Neue,Helvetica,sans-serif; font-size:48px; text-anchor:end;\" transform=\"rotate(0, 129.898, 371.063)\" x=\"129.898\" y=\"371.063\">1.5</text>\n",
       "</g>\n",
       "<polyline clip-path=\"url(#clip5002)\" style=\"stroke:#009af9; stroke-width:4; stroke-opacity:1; fill:none\" points=\"\n",
       "  216.13,88.0053 227.654,757.678 239.179,795.636 250.703,795.636 262.227,573.092 273.752,1007.66 285.276,905.323 296.801,905.323 308.325,1159.87 319.85,1153.39 \n",
       "  331.374,1153.39 342.898,1203.94 354.423,1167.65 365.947,1120.17 377.472,1227.13 388.996,1227.13 400.52,1256.2 412.045,1256.2 423.569,1256.2 435.094,1289.73 \n",
       "  446.618,1202.22 458.142,1202.22 469.667,1312.27 481.191,1297.63 492.716,1358.48 504.24,1355.12 515.765,1355.12 527.289,1385.04 538.813,1388.17 550.338,1388.17 \n",
       "  561.862,1399.22 573.387,1396.21 584.911,1411.65 596.435,1416.33 607.96,1416.32 619.484,1413.53 631.009,1413.53 642.533,1417.61 654.057,1417.61 665.582,1417.61 \n",
       "  677.106,1417.61 688.631,1425.72 700.155,1428.76 711.68,1428.76 723.204,1428.76 734.728,1428.76 746.253,1428.3 757.777,1428.3 769.302,1426.45 780.826,1426.45 \n",
       "  792.35,1429.44 803.875,1427.6 815.399,1427.6 826.924,1428.66 838.448,1427.99 849.972,1428.36 861.497,1428.12 873.021,1428.12 884.546,1434.51 896.07,1435.97 \n",
       "  907.595,1436.29 919.119,1438.14 930.643,1433.24 942.168,1437.67 953.692,1435.12 965.217,1435.12 976.741,1439.71 988.265,1439.71 999.79,1440.88 1011.31,1440.4 \n",
       "  1022.84,1440.4 1034.36,1440.4 1045.89,1440.4 1057.41,1441.41 1068.94,1438.53 1080.46,1442.41 1091.99,1442.97 1103.51,1442.5 1115.03,1442.82 1126.56,1441.34 \n",
       "  1138.08,1443.77 1149.61,1442.47 1161.13,1443.37 1172.66,1444.12 1184.18,1444.54 1195.7,1444.39 1207.23,1444.12 1218.75,1444.62 1230.28,1444.62 1241.8,1445.12 \n",
       "  1253.33,1445.37 1264.85,1445.29 1276.38,1445.53 1287.9,1445.53 1299.42,1445.35 1310.95,1445.35 1322.47,1445.35 1334,1445.5 1345.52,1445.37 1357.05,1445.46 \n",
       "  1368.57,1445.46 1380.1,1445.01 1391.62,1445.79 1403.14,1445.79 1414.67,1445.79 1426.19,1445.79 1437.72,1445.79 1449.24,1445.7 1460.77,1445.7 1472.29,1445.7 \n",
       "  1483.82,1446.1 1495.34,1446.1 1506.86,1446.1 1518.39,1446.1 1529.91,1446.2 1541.44,1446.2 1552.96,1446.2 1564.49,1446.2 1576.01,1446.2 1587.53,1445.93 \n",
       "  1599.06,1446.14 1610.58,1446.14 1622.11,1446.25 1633.63,1446.25 1645.16,1446.33 1656.68,1446.12 1668.21,1446.28 1679.73,1446.28 1691.25,1446.18 1702.78,1446.18 \n",
       "  1714.3,1446.24 1725.83,1446.38 1737.35,1446.43 1748.88,1446.29 1760.4,1446.29 1771.93,1446.47 1783.45,1446.47 1794.97,1446.52 1806.5,1446.4 1818.02,1446.55 \n",
       "  1829.55,1446.58 1841.07,1446.5 1852.6,1446.6 1864.12,1446.62 1875.65,1446.57 1887.17,1446.57 1898.69,1446.63 1910.22,1446.64 1921.74,1446.65 1933.27,1446.65 \n",
       "  1944.79,1446.61 1956.32,1446.65 1967.84,1446.65 1979.36,1446.63 1990.89,1446.63 2002.41,1446.66 2013.94,1446.67 2025.46,1446.67 2036.99,1446.67 2048.51,1446.67 \n",
       "  2060.04,1446.65 2071.56,1446.68 2083.08,1446.69 2094.61,1446.67 2106.13,1446.69 2117.66,1446.69 2129.18,1446.7 2140.71,1446.69 2152.23,1446.69 2163.76,1446.69 \n",
       "  2175.28,1446.7 2186.8,1446.71 2198.33,1446.71 2209.85,1446.7 2221.38,1446.7 2232.9,1446.7 2244.43,1446.7 2255.95,1446.7 2267.48,1446.71 2279,1446.71 \n",
       "  2290.52,1446.71 \n",
       "  \"/>\n",
       "<polygon clip-path=\"url(#clip5000)\" points=\"\n",
       "1989.93,251.724 2280.76,251.724 2280.76,130.764 1989.93,130.764 \n",
       "  \" fill=\"#ffffff\" fill-rule=\"evenodd\" fill-opacity=\"1\"/>\n",
       "<polyline clip-path=\"url(#clip5000)\" style=\"stroke:#000000; stroke-width:4; stroke-opacity:1; fill:none\" points=\"\n",
       "  1989.93,251.724 2280.76,251.724 2280.76,130.764 1989.93,130.764 1989.93,251.724 \n",
       "  \"/>\n",
       "<polyline clip-path=\"url(#clip5000)\" style=\"stroke:#009af9; stroke-width:4; stroke-opacity:1; fill:none\" points=\"\n",
       "  2013.93,191.244 2157.93,191.244 \n",
       "  \"/>\n",
       "<g clip-path=\"url(#clip5000)\">\n",
       "<text style=\"fill:#000000; fill-opacity:1; font-family:Arial,Helvetica Neue,Helvetica,sans-serif; font-size:48px; text-anchor:start;\" transform=\"rotate(0, 2181.93, 208.744)\" x=\"2181.93\" y=\"208.744\">y1</text>\n",
       "</g>\n",
       "</svg>\n"
      ]
     },
     "execution_count": 184,
     "metadata": {},
     "output_type": "execute_result"
    }
   ],
   "source": [
    "# print(sols[end])\n",
    "\n",
    "println(size(errs))\n",
    "# println(errs)\n",
    "# numiters= size(errs)[1]\n",
    "plot(1:numiters, errs[:,1])"
   ]
  },
  {
   "cell_type": "code",
   "execution_count": 82,
   "metadata": {},
   "outputs": [
    {
     "data": {
      "text/plain": [
       "rand_matsolve (generic function with 2 methods)"
      ]
     },
     "execution_count": 82,
     "metadata": {},
     "output_type": "execute_result"
    }
   ],
   "source": [
    "function rand_matsolve(A,B,seed=None)\n",
    "    \"\"\"\n",
    "    Helper function that stacks together multiple Ax=b solvers\n",
    "    INPUT: A,B\n",
    "    OUTPUT: X mxn matrix such that AX = B\n",
    "    \"\"\"\n",
    "    sol = zeros(n,k)\n",
    "    a,b = A.shape\n",
    "    c,d = B.sha  \n",
    "    @assert (a == c)\n",
    "    \n",
    "    for col in B.T:        \n",
    "        x,errs = randomized_kaczmarz(A,col) \n",
    "        sol.append(x[-1])\n",
    "    return (np.stack(sol,axis = -1))\n",
    "    \n",
    "end"
   ]
  },
  {
   "cell_type": "markdown",
   "metadata": {},
   "source": [
    "## ADI\n",
    "\n",
    "Solves $AX - XB = N$ for low rank $N$"
   ]
  },
  {
   "cell_type": "code",
   "execution_count": null,
   "metadata": {},
   "outputs": [],
   "source": []
  }
 ],
 "metadata": {
  "kernelspec": {
   "display_name": "Julia 1.2.0",
   "language": "julia",
   "name": "julia-1.2"
  },
  "language_info": {
   "file_extension": ".jl",
   "mimetype": "application/julia",
   "name": "julia",
   "version": "1.2.0"
  }
 },
 "nbformat": 4,
 "nbformat_minor": 2
}
