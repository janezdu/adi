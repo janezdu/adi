{
 "cells": [
  {
   "cell_type": "markdown",
   "metadata": {},
   "source": [
    "# In this notebook\n",
    "- Randomized iterative methods (Gower's paper)\n",
    "- Using them to linear solve matrices AX = B\n",
    "- ADI \n",
    "\n",
    "All are tested very loosely with small matrices. A more formal unit test suite can be found in the project in `../src`."
   ]
  },
  {
   "cell_type": "code",
   "execution_count": 24,
   "metadata": {},
   "outputs": [
    {
     "name": "stderr",
     "output_type": "stream",
     "text": [
      "┌ Info: Precompiling Elliptic [b305315f-e792-5b7a-8f41-49f472929428]\n",
      "└ @ Base loading.jl:1273\n",
      "WARNING: using Elliptic.F in module Main conflicts with an existing identifier.\n"
     ]
    }
   ],
   "source": [
    "# usings and imports\n",
    "using Random\n",
    "using LinearAlgebra\n",
    "using SparseArrays\n",
    "using Elliptic\n",
    "# using Plots\n"
   ]
  },
  {
   "cell_type": "markdown",
   "metadata": {},
   "source": [
    "## Random iterative method (parameterized) \n",
    "\n",
    "Solves $Ax = b$"
   ]
  },
  {
   "cell_type": "code",
   "execution_count": 6,
   "metadata": {},
   "outputs": [
    {
     "data": {
      "text/plain": [
       "rand_linsolve (generic function with 3 methods)"
      ]
     },
     "execution_count": 6,
     "metadata": {},
     "output_type": "execute_result"
    }
   ],
   "source": [
    "function rand_linsolve(A,b,B, Stype, seed=nothing,verbose=false)\n",
    "    \"\"\"\n",
    "    Solves using randomized kaczmarz.\n",
    "    Randomly selects a row per iteration to update x with\n",
    "    \n",
    "    INPUT:  matrix A mxn, \n",
    "            vector b mx1,\n",
    "            matrix B nxn\n",
    "            string Stype: \"coordvec\", \"\"\n",
    "            \n",
    "    OUTPUT: vector x nx1 that solves Ax = b\n",
    "    \"\"\"\n",
    "    m,n = size(A)\n",
    "    x0 = ones(n)\n",
    "    sols = [x0] # list of x_0 ... x_n\n",
    "    errs = zeros(0)\n",
    "    if seed != nothing\n",
    "        Random.seed!(seed)\n",
    "    end\n",
    "    @assert Stype == \"coordvec\"\n",
    "    \n",
    "    Binv = inv(B)\n",
    "    xprev = x0\n",
    "    while(true)\n",
    "        \n",
    "        i = rand(1:m)\n",
    "        \n",
    "        # S is a unit coordinate vector (temporary)\n",
    "        S = zeros(m)\n",
    "        S[i] = 1\n",
    "        \n",
    "        C = Binv * A' * S * pinv(S' * A * Binv * A' * S) * S'      \n",
    "        res = A * xprev - b\n",
    "        xnew = xprev - C * res\n",
    "  \n",
    "        push!(sols, xnew)\n",
    "        err = norm(A * xnew - b)\n",
    "        push!(errs,err)\n",
    "        if err < 1e-5\n",
    "            break\n",
    "        end\n",
    "        \n",
    "        xprev = xnew\n",
    "    end\n",
    "    \n",
    "    if verbose\n",
    "        return sols,errs\n",
    "    else\n",
    "        return sols[end]\n",
    "    end\n",
    "end"
   ]
  },
  {
   "cell_type": "code",
   "execution_count": 7,
   "metadata": {},
   "outputs": [
    {
     "name": "stdout",
     "output_type": "stream",
     "text": [
      "done\n"
     ]
    }
   ],
   "source": [
    "seed = 0\n",
    "\n",
    "A = rand(Float64,30,50)\n",
    "b = rand(Float64,30)\n",
    "B = I # n x n \n",
    "# display(\"text/plain\",A)\n",
    "# display(\"text/plain\",b)\n",
    "# display(\"text/plain\",B)\n",
    "\n",
    "sols,errs = rand_linsolve(A,b, B,\"coordvec\", seed,true)\n",
    "println(\"done\")"
   ]
  },
  {
   "cell_type": "code",
   "execution_count": 8,
   "metadata": {},
   "outputs": [
    {
     "name": "stdout",
     "output_type": "stream",
     "text": [
      "(13788,)\n"
     ]
    },
    {
     "ename": "UndefVarError",
     "evalue": "UndefVarError: plot not defined",
     "output_type": "error",
     "traceback": [
      "UndefVarError: plot not defined",
      "",
      "Stacktrace:",
      " [1] top-level scope at In[8]:4"
     ]
    }
   ],
   "source": [
    "println(size(errs))\n",
    "# println(errs)\n",
    "numiters= size(errs)[1]\n",
    "plot(1:numiters, errs[:,1])"
   ]
  },
  {
   "cell_type": "code",
   "execution_count": 9,
   "metadata": {},
   "outputs": [
    {
     "data": {
      "text/plain": [
       "rand_matsolve (generic function with 2 methods)"
      ]
     },
     "execution_count": 9,
     "metadata": {},
     "output_type": "execute_result"
    }
   ],
   "source": [
    "function rand_matsolve(A,B,seed=nothing)\n",
    "    \"\"\"\n",
    "    Helper function that stacks together multiple Ax=b solvers\n",
    "    INPUT: \n",
    "            A: matrix mxn\n",
    "            B: matrix mxk\n",
    "    OUTPUT: X: matrix such that AX = B\n",
    "    \"\"\"\n",
    "    \n",
    "    m1,n = size(A)\n",
    "    m2,k = size(B)\n",
    "    sol = zeros(n,k)\n",
    "    @assert m1==m2 \n",
    "    \n",
    "    s(b) = rand_linsolve(A,b,I,\"coordvec\", seed)\n",
    "    return mapslices(s,B,dims=[1])\n",
    "    \n",
    "end"
   ]
  },
  {
   "cell_type": "code",
   "execution_count": 10,
   "metadata": {},
   "outputs": [
    {
     "name": "stdout",
     "output_type": "stream",
     "text": [
      "done\n",
      "7.658847096703502e-5\n"
     ]
    }
   ],
   "source": [
    "\n",
    "A = rand(Float64,30,50)\n",
    "B = rand(Float64,30,60)\n",
    "Bparam = I # n x n\n",
    "m1,n = size(A)\n",
    "m2,k = size(B)\n",
    "sol = zeros(n,k)\n",
    "\n",
    "X = rand_matsolve(A,B)\n",
    "println(\"done\")\n",
    "println(norm(A * X - B))"
   ]
  },
  {
   "cell_type": "code",
   "execution_count": 19,
   "metadata": {},
   "outputs": [
    {
     "data": {
      "text/plain": [
       "adi_parameters (generic function with 1 method)"
      ]
     },
     "execution_count": 19,
     "metadata": {},
     "output_type": "execute_result"
    }
   ],
   "source": [
    "\n",
    "function adi_parameters(a,b,c,d,J)\n",
    "    p = zeros(J)\n",
    "    q = zeros(J)\n",
    "    gamma = abs((c-a) * (d-b)  / (c-b)*(d-a))\n",
    "    alpha = -1 + 2*gamma + 2 * sqrt(gamma^2 - gamma)\n",
    "    kappa = sqrt(1 - 1 / (alpha^2))\n",
    "\n",
    "    TT(t) = (-alpha * t -1)/(t + alpha)\n",
    "\n",
    "    for j = 1:J\n",
    "        z = (2 * j + 1) / (2 * J) * Elliptic.K(kappa)\n",
    "        t = -alpha * Elliptic.Jacobi.dn(z,kappa)\n",
    "        p[j] = TT(t)\n",
    "        q[j] = TT(-t)\n",
    "    end\n",
    "\n",
    "    return p,q\n",
    "end"
   ]
  },
  {
   "cell_type": "markdown",
   "metadata": {},
   "source": [
    "## ADI\n",
    "\n",
    "Solves $AX - XB = N$ for low rank $N$"
   ]
  },
  {
   "cell_type": "code",
   "execution_count": 30,
   "metadata": {},
   "outputs": [
    {
     "data": {
      "text/plain": [
       "adi (generic function with 1 method)"
      ]
     },
     "execution_count": 30,
     "metadata": {},
     "output_type": "execute_result"
    }
   ],
   "source": [
    "function adi(A,B,F,N,p,q)\n",
    "    m,m2 = size(A)\n",
    "    n,n2 = size(B)\n",
    "    \n",
    "    @assert m==m2\n",
    "    @assert n==n2\n",
    "    \n",
    "    sols = []\n",
    "    Xprev = zeros((m,n)) \n",
    "    for i = 1:N\n",
    "        Ahalf = (A - p[i] * I)\n",
    "        Bhalf = Xprev * (B - q[i] * I) + F\n",
    "        \n",
    "#         Xhalf = rand_matsolve(Ahalf,Bhalf)   \n",
    "        Xhalf = Ahalf \\ Bhalf\n",
    "\n",
    "        Asolve = (B - q[i] * I)\n",
    "        Bsolve = (A - q[i] * I) * Xhalf - F\n",
    "#         X = (rand_matsolve(Asolve', Bsolve'))'\n",
    "        X = (Asolve' \\ Bsolve')'\n",
    "        Xprev = X \n",
    "        push!(sols,X)\n",
    "    end    \n",
    "    return sols\n",
    "end"
   ]
  },
  {
   "cell_type": "code",
   "execution_count": 36,
   "metadata": {},
   "outputs": [
    {
     "name": "stdout",
     "output_type": "stream",
     "text": [
      "47.43377987978836"
     ]
    }
   ],
   "source": [
    "#--- Small Test\n",
    "Q,R = qr(rand(5,5))\n",
    "Aevals = [1., 2., 3., 4., 5.]\n",
    "Bevals = [11., 12., 13., 14., 15.]\n",
    "A = Q * Diagonal(Aevals) * Q.T\n",
    "B = Q * Diagonal(Bevals) * Q.T\n",
    "\n",
    "F = rand(Float64,5,5)\n",
    "\n",
    "a = minimum(Aevals)\n",
    "b = maximum(Aevals)\n",
    "c = minimum(Bevals)\n",
    "d = maximum(Bevals)\n",
    "N = 5\n",
    "p,q = adi_parameters(a,b,c,d,N)\n",
    "\n",
    "sols = adi(A,B,F,N,p,q)\n",
    "\n",
    "X = sols[end]\n",
    "\n",
    "print(norm(A * X - X * B - F))\n",
    "#---"
   ]
  },
  {
   "cell_type": "code",
   "execution_count": 39,
   "metadata": {},
   "outputs": [
    {
     "name": "stdout",
     "output_type": "stream",
     "text": [
      "  0.001098 seconds (103 allocations: 19.313 KiB)\n"
     ]
    },
    {
     "data": {
      "text/plain": [
       "1"
      ]
     },
     "execution_count": 39,
     "metadata": {},
     "output_type": "execute_result"
    }
   ],
   "source": [
    "@time adi(A,B,F,N,p,q)"
   ]
  },
  {
   "cell_type": "code",
   "execution_count": null,
   "metadata": {},
   "outputs": [],
   "source": []
  }
 ],
 "metadata": {
  "kernelspec": {
   "display_name": "Julia 1.3.1",
   "language": "julia",
   "name": "julia-1.3"
  },
  "language_info": {
   "file_extension": ".jl",
   "mimetype": "application/julia",
   "name": "julia",
   "version": "1.3.1"
  }
 },
 "nbformat": 4,
 "nbformat_minor": 2
}
