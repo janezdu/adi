{
 "cells": [
  {
   "cell_type": "markdown",
   "metadata": {},
   "source": [
    "# In this notebook\n",
    "- Randomized iterative methods (Gower's paper)\n",
    "- Using them to linear solve matrices AX = B\n",
    "- ADI \n",
    "\n",
    "All are tested very loosely with small matrices. A more formal unit test suite can be found in the project in `../src`."
   ]
  },
  {
   "cell_type": "code",
   "execution_count": 1,
   "metadata": {},
   "outputs": [],
   "source": [
    "using Random\n",
    "using LinearAlgebra\n",
    "using SparseArrays\n",
    "using Plots\n",
    "# using Printf"
   ]
  },
  {
   "cell_type": "markdown",
   "metadata": {},
   "source": [
    "## Random iterative method (parameterized) \n",
    "\n",
    "Solves $Ax = b$"
   ]
  },
  {
   "cell_type": "code",
   "execution_count": 2,
   "metadata": {},
   "outputs": [
    {
     "data": {
      "text/plain": [
       "rand_linsolve (generic function with 3 methods)"
      ]
     },
     "execution_count": 2,
     "metadata": {},
     "output_type": "execute_result"
    }
   ],
   "source": [
    "function rand_linsolve(A,b,B, Stype, seed=nothing,verbose=false)\n",
    "    \"\"\"\n",
    "    Solves using randomized kaczmarz.\n",
    "    Randomly selects a row per iteration to update x with\n",
    "    \n",
    "    INPUT:  matrix A mxn, \n",
    "            vector b mx1,\n",
    "            matrix B nxn\n",
    "            string Stype: \"coordvec\", \"\"\n",
    "            \n",
    "    OUTPUT: vector x nx1 that solves Ax = b\n",
    "    \"\"\"\n",
    "    m,n = size(A)\n",
    "    x0 = ones(n)\n",
    "    sols = [x0] # list of x_0 ... x_n\n",
    "    errs = zeros(0)\n",
    "    if seed != nothing\n",
    "        Random.seed!(seed)\n",
    "    end\n",
    "    @assert Stype == \"coordvec\"\n",
    "    \n",
    "    Binv = inv(B)\n",
    "    xprev = x0\n",
    "    while(true)\n",
    "        \n",
    "        i = rand(1:m)\n",
    "        \n",
    "        # S is a unit coordinate vector (temporary)\n",
    "        S = zeros(m)\n",
    "        S[i] = 1\n",
    "        \n",
    "        C = Binv * A' * S * pinv(S' * A * Binv * A' * S) * S'      \n",
    "        res = A * xprev - b\n",
    "        xnew = xprev - C * res\n",
    "  \n",
    "        push!(sols, xnew)\n",
    "        err = norm(A * xnew - b)\n",
    "        push!(errs,err)\n",
    "        if err < 1e-5\n",
    "            break\n",
    "        end\n",
    "        \n",
    "        xprev = xnew\n",
    "    end\n",
    "    \n",
    "    if verbose\n",
    "        return sols,errs\n",
    "    else\n",
    "        return sols[end]\n",
    "    end\n",
    "end"
   ]
  },
  {
   "cell_type": "code",
   "execution_count": 3,
   "metadata": {},
   "outputs": [
    {
     "ename": "LoadError",
     "evalue": "syntax: extra token \"printsize\" after end of expression",
     "output_type": "error",
     "traceback": [
      "syntax: extra token \"printsize\" after end of expression",
      ""
     ]
    }
   ],
   "source": [
    "seed = 0\n",
    "\n",
    "A = rand(Float64,3,5)\n",
    "b = rand(Float64,3)undefvar printsize not defined\n",
    "B = I # n x n \n",
    "display(\"text/plain\",A)\n",
    "display(\"text/plain\",b)\n",
    "display(\"text/plain\",B)\n",
    "\n",
    "sols,errs = rand_linsolve(A,b, B,\"coordvec\", seed,true)\n",
    "println(\"done\")"
   ]
  },
  {
   "cell_type": "code",
   "execution_count": 4,
   "metadata": {},
   "outputs": [
    {
     "ename": "UndefVarError",
     "evalue": "UndefVarError: errs not defined",
     "output_type": "error",
     "traceback": [
      "UndefVarError: errs not defined",
      "",
      "Stacktrace:",
      " [1] top-level scope at In[4]:1"
     ]
    }
   ],
   "source": [
    "# print(sols[end])\n",
    "\n",
    "println(size(errs))\n",
    "# println(errs)\n",
    "numiters= size(errs)[1]\n",
    "plot(1:numiters, errs[:,1])"
   ]
  },
  {
   "cell_type": "code",
   "execution_count": 5,
   "metadata": {},
   "outputs": [
    {
     "data": {
      "text/plain": [
       "rand_matsolve (generic function with 2 methods)"
      ]
     },
     "execution_count": 5,
     "metadata": {},
     "output_type": "execute_result"
    }
   ],
   "source": [
    "function rand_matsolve(A,B,seed=nothing)\n",
    "    \"\"\"\n",
    "    Helper function that stacks together multiple Ax=b solvers\n",
    "    INPUT: \n",
    "            A: matrix mxn\n",
    "            B: matrix mxk\n",
    "    OUTPUT: X: matrix such that AX = B\n",
    "    \"\"\"\n",
    "    \n",
    "    m1,n = size(A)\n",
    "    m2,k = size(B)\n",
    "    sol = zeros(n,k)\n",
    "    @assert m1==m2\n",
    "    \n",
    "    s(b) = rand_linsolve(A,b,I,\"coordvec\", seed)\n",
    "    return mapslices(s,B,dims=[1])\n",
    "    \n",
    "end"
   ]
  },
  {
   "cell_type": "code",
   "execution_count": 6,
   "metadata": {},
   "outputs": [
    {
     "data": {
      "text/plain": [
       "3×6 Array{Float64,2}:\n",
       " -5.97118e-6   -3.45626e-6  -1.89978e-6   …   1.25746e-6   -3.20742e-6 \n",
       "  1.11022e-16   0.0          1.11022e-16      3.64292e-17   5.55112e-17\n",
       "  6.81143e-6    7.89557e-6   9.80136e-6      -9.16492e-6    7.78137e-6 "
      ]
     },
     "metadata": {},
     "output_type": "display_data"
    }
   ],
   "source": [
    "\n",
    "A = rand(Float64,3,5)\n",
    "B = rand(Float64,3,6)\n",
    "Bparam = I # n x n\n",
    "m1,n = size(A)\n",
    "m2,k = size(B)\n",
    "sol = zeros(n,k)\n",
    "\n",
    "X = rand_matsolve(A,B)\n",
    "\n",
    "display(\"text/plain\", A * X - B)"
   ]
  },
  {
   "cell_type": "markdown",
   "metadata": {},
   "source": [
    "## ADI\n",
    "\n",
    "Solves $AX - XB = N$ for low rank $N$"
   ]
  },
  {
   "cell_type": "code",
   "execution_count": 28,
   "metadata": {},
   "outputs": [
    {
     "data": {
      "text/plain": [
       "adi (generic function with 1 method)"
      ]
     },
     "execution_count": 28,
     "metadata": {},
     "output_type": "execute_result"
    }
   ],
   "source": [
    "function adi(A,B,F,N,p,q)\n",
    "    m,m2 = size(A)\n",
    "    n,n2 = size(B)\n",
    "    \n",
    "    @assert m==m2\n",
    "    @assert n==n2\n",
    "    \n",
    "    sols = []\n",
    "    Xprev = zeros((m,n))\n",
    "    for i = 1:N\n",
    "        Ahalf = (A - p[i] * I)\n",
    "        \n",
    "        \n",
    "        Bhalf = Xprev * (B - q[i] * I) + F\n",
    "        \n",
    "        Xhalf = rand_matsolve(Ahalf,Bhalf)   \n",
    "        \n",
    "\n",
    "        Asolve = (B - q[i] * I)\n",
    "        Bsolve = (A - q[i] * I) * Xhalf - F\n",
    "        X = (rand_matsolve(Asolve', Bsolve'))'\n",
    "        Xprev = X \n",
    "        push!(sols,X)\n",
    "    end    \n",
    "    return sols\n",
    "end"
   ]
  },
  {
   "cell_type": "code",
   "execution_count": 29,
   "metadata": {},
   "outputs": [
    {
     "data": {
      "text/plain": [
       "5×3 Adjoint{Float64,Array{Float64,2}}:\n",
       "  2.53446e-5  4.40675e-5    3.6082e-6 \n",
       "  8.23692e-5  0.000146286   7.21577e-5\n",
       "  2.86763e-5  4.7045e-5     2.82769e-7\n",
       " -1.52371e-5  6.44682e-6   -1.31587e-5\n",
       "  1.63336e-5  4.24438e-5    5.7095e-6 "
      ]
     },
     "metadata": {},
     "output_type": "display_data"
    }
   ],
   "source": [
    "A = rand(Float64,5,5)\n",
    "B = rand(Float64,3,3)\n",
    "F = rand(Float64,5,3)\n",
    "N = 5\n",
    "p = ones(N)\n",
    "q = ones(N)\n",
    "\n",
    "sols = adi(A,B,F,N,p,q)\n",
    "display(\"text/plain\",sols[end])\n"
   ]
  }
 ],
 "metadata": {
  "kernelspec": {
   "display_name": "Julia 1.2.0",
   "language": "julia",
   "name": "julia-1.2"
  },
  "language_info": {
   "file_extension": ".jl",
   "mimetype": "application/julia",
   "name": "julia",
   "version": "1.2.0"
  }
 },
 "nbformat": 4,
 "nbformat_minor": 2
}
