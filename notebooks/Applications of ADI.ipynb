{
 "cells": [
  {
   "cell_type": "markdown",
   "metadata": {},
   "source": [
    "## In this Notebook\n",
    "* examples of applications of ADI \n"
   ]
  },
  {
   "cell_type": "code",
   "execution_count": 1,
   "metadata": {},
   "outputs": [
    {
     "name": "stderr",
     "output_type": "stream",
     "text": [
      "┌ Info: Recompiling stale cache file /home/jane/.julia/compiled/v1.2/Plots/ld3vC.ji for Plots [91a5bcdd-55d7-5caf-9e0b-520d859cae80]\n",
      "└ @ Base loading.jl:1240\n"
     ]
    }
   ],
   "source": [
    "using Random\n",
    "using LinearAlgebra\n",
    "using SparseArrays\n",
    "using Plots\n",
    "using Statistics"
   ]
  },
  {
   "cell_type": "markdown",
   "metadata": {},
   "source": [
    "### Dynamical Systems\n",
    "Given $x,u,y$ as state, input, and output vectors, we can work with the simple discrete-time linear system representing\n",
    "\n",
    "$$\\dot{x}=A x+B u, \\quad y=C x$$\n",
    "\n",
    "One application might be to model a complex electronic circuit. For this toy example (see references), consider an RC circuit with $n$ different voltage inputs and a conductance matrix $G \\in \\mathbb R ^ { n \\times n}$. Note that the conductance matrix is constructed with $\\frac{1}{r_{ij}}$ for the resistances of each component in a grid $r_{ij}$. \n",
    "\n",
    "![](rccirc.png)\n",
    "\n",
    "\n",
    "We have $c_{k} \\dot{v}_{k}=-i_{k}$ for each input, as well as $i = Gv$ for the current in the whole circuit. We represent the capacitances with $C=\\operatorname{diag}\\left(c_{1}, \\ldots, c_{n}\\right)$, resulting in the system\n",
    "\n",
    "$$\\dot{v}=-C^{-1} G v$$\n",
    "\n",
    "If we input a signal at $v_1$ for example, the effects on the sytem can be modelled. This is represented below in the `gen_circ` function.\n",
    "\n",
    "One application is modelling Very-large-scale integration (VLSI) circuits. These chips operate on a high enough frequency, and are dense enough with microscopic components, that the distance between transistors needs to be modelled.\n",
    "\n",
    "The Sylvester equation arises in the Sylvester controller equation, which is included in the Control Theory section below."
   ]
  },
  {
   "cell_type": "code",
<<<<<<< HEAD
   "execution_count": 11,
=======
   "execution_count": 70,
>>>>>>> 4533559907d35ca1e9868be2d7c05c8543d25217
   "metadata": {},
   "outputs": [
    {
     "data": {
      "text/plain": [
       "gen_circ (generic function with 1 method)"
      ]
     },
<<<<<<< HEAD
     "execution_count": 11,
=======
     "execution_count": 70,
>>>>>>> 4533559907d35ca1e9868be2d7c05c8543d25217
     "metadata": {},
     "output_type": "execute_result"
    }
   ],
   "source": [
    "function gen_circ(n)\n",
    "    A = rand(n,n)\n",
    "    B = zeros(n) \n",
    "    B[end] = 1\n",
    "    C = rand(n)'\n",
    "    return A,B,C\n",
    "end"
   ]
  },
  {
   "cell_type": "code",
<<<<<<< HEAD
   "execution_count": 12,
=======
   "execution_count": 71,
>>>>>>> 4533559907d35ca1e9868be2d7c05c8543d25217
   "metadata": {},
   "outputs": [
    {
     "data": {
      "text/plain": [
       "10×10 Array{Float64,2}:\n",
<<<<<<< HEAD
       " 0.232178  0.819415  0.409267  0.286176  …  0.52442   0.255783   0.836275  \n",
       " 0.935897  0.305949  0.705272  0.965047     0.567793  0.804318   0.191619  \n",
       " 0.676467  0.592989  0.794755  0.977082     0.950448  0.136177   0.839369  \n",
       " 0.96763   0.11006   0.421326  0.494689     0.153507  0.167375   0.00251812\n",
       " 0.32302   0.533978  0.865785  0.966761     0.162542  0.734821   0.349368  \n",
       " 0.288429  0.117229  0.703854  0.292022  …  0.155647  0.522248   0.994802  \n",
       " 0.937495  0.890877  0.837766  0.842031     0.320275  0.177568   0.870183  \n",
       " 0.865395  0.198284  0.194206  0.254314     0.276073  0.475757   0.675377  \n",
       " 0.799481  0.434793  0.189635  0.800435     0.789384  0.0782277  0.922137  \n",
       " 0.522896  0.499278  0.722217  0.495346     0.454878  0.450101   0.298837  "
=======
       "  0.0       1.0        0.0       …   0.0        0.0        0.0     \n",
       "  0.0       0.0        1.0           0.0        0.0        0.0     \n",
       "  0.0       0.0        0.0           0.0        0.0        0.0     \n",
       "  0.0       0.0        0.0           0.0        0.0        0.0     \n",
       "  0.0       0.0        0.0           0.0        0.0        0.0     \n",
       "  0.0       0.0        0.0       …   0.0        0.0        0.0     \n",
       "  0.0       0.0        0.0           1.0        0.0        0.0     \n",
       "  0.0       0.0        0.0           0.0        1.0        0.0     \n",
       "  0.0       0.0        0.0           0.0        0.0        1.0     \n",
       " -0.29199  -0.424337  -0.864311     -0.742518  -0.787097  -0.311314"
>>>>>>> 4533559907d35ca1e9868be2d7c05c8543d25217
      ]
     },
     "metadata": {},
     "output_type": "display_data"
    },
    {
     "data": {
      "text/plain": [
       "10-element Array{Float64,1}:\n",
       " 0.0\n",
       " 0.0\n",
       " 0.0\n",
       " 0.0\n",
       " 0.0\n",
       " 0.0\n",
       " 0.0\n",
       " 0.0\n",
       " 0.0\n",
       " 1.0"
      ]
     },
     "metadata": {},
     "output_type": "display_data"
    },
    {
     "data": {
      "text/plain": [
<<<<<<< HEAD
       "1×10 LinearAlgebra.Adjoint{Float64,Array{Float64,1}}:\n",
       " 0.664526  0.6548  0.571687  0.198227  …  0.306995  0.0805708  0.491505"
=======
       "1×10 Adjoint{Float64,Array{Float64,1}}:\n",
       " 0.128183  0.957515  0.5215  0.140495  …  0.99587  0.276688  0.00169009"
>>>>>>> 4533559907d35ca1e9868be2d7c05c8543d25217
      ]
     },
     "metadata": {},
     "output_type": "display_data"
    }
   ],
   "source": [
    "A,B,C = gen_circ(10)\n",
    "display(\"text/plain\",A)\n",
    "display(\"text/plain\",B)\n",
    "display(\"text/plain\",C)"
   ]
  },
  {
   "cell_type": "markdown",
   "metadata": {},
   "source": [
    "### PDE\n",
    "\n",
    "The example below is the 2D heat equation, or\n",
    "\n",
    "$$u' = \\alpha \\nabla ^2 u$$\n",
    "\n",
    "The boundary conditions are randomly generated in the function below. We also ensure that the boundaries of the function $u$ are 0, and use the spectral method to generate dense A and B."
   ]
  },
  {
   "cell_type": "code",
   "execution_count": 135,
   "metadata": {},
   "outputs": [
    {
     "data": {
      "text/plain": [
       "chebpts (generic function with 2 methods)"
      ]
     },
     "execution_count": 135,
     "metadata": {},
     "output_type": "execute_result"
    }
   ],
   "source": [
    "function diffmat(N,k)\n",
    "    if N == 0 D = []; return end\n",
    "    if N == 1 D = 0; return end\n",
    "    D = []\n",
    "    \n",
    "    x = chebpts(N);\n",
    "    w = [.5 ; ones(N-1,1)]; w[2:2:end] .= -1; w[N] = .5*w[N];\n",
    "\n",
    "    ii = diagind(zeros(N,N))\n",
    "    Dx = broadcast(-,x,x');       # all pairwise differences\n",
    "    Dx = Dx + I;            # add identity\n",
    "    Dxi = 1 ./ Dx;                    # reciprocal \n",
    "    Dw = broadcast(/,w',w);    # pairwise divisions\n",
    "    Dw = Dw - I;            # subtract identity\n",
    "\n",
    "    D = Dw .* Dxi\n",
    "    if k == 1\n",
    "        D = Dw .* Dxi;\n",
    "        D[ii] .= 0; D[ii] = -1 * sum(D, dims=2);              # negative sum trick\n",
    "    elseif k == 2 \n",
    "        D = 2*D .* (repeat(D[ii],1,N) - Dxi);\n",
    "        D[ii] .= 0; D[ii] = -1 * sum(D, dims=2);              # negative sum trick\n",
    "    else\n",
    "        D = k*Dxi .* (Dw.*repeat(D[ii],1,N) - D);\n",
    "        D[ii] .= 0; D[ii] = -1 * sum(D,dims=2);               # negative sum trick\n",
    "    end\n",
    "    \n",
    "    return D\n",
    "end\n",
    "\n",
    "# Chebyshev points on an interval\n",
    "# https://github.com/ay2718/spectral-pde-solver/blob/master/chebpts.jl\n",
    "function chebpts(n, interval = [-1.0, 1.0])\n",
    "    m = n-1;\n",
    "    chpts = sin.(pi*(-m:2:m) ./ (2*m));\n",
    "    chpts.*=(0.5*diff(interval));\n",
    "    chpts.+=(0.5*sum(interval));\n",
    "    chpts\n",
    "end"
   ]
  },
  {
   "cell_type": "code",
   "execution_count": 136,
   "metadata": {},
   "outputs": [
    {
     "data": {
      "text/plain": [
       "20×20 Array{Float64,2}:\n",
       " -20352.5       21503.8       -1362.5       …     -1.01378        0.5     \n",
       "   5375.94      -6454.75       1216.68             0.513923      -0.253445\n",
       "   -340.626      1216.68      -1268.4             -0.535717       0.264117\n",
       "     68.8393     -175.055       454.395            0.574491      -0.283092\n",
       "    -22.4913       51.4191      -81.4744          -0.634436       0.3124  \n",
       "      9.6018      -20.9358       27.7349    …      0.72262       -0.355458\n",
       "     -4.87197      10.3582      -12.571           -0.850688       0.417877\n",
       "      2.79354      -5.85079       6.75519          1.03804       -0.508971\n",
       "     -1.75657       3.64367      -4.07777         -1.318          0.644648\n",
       "      1.18813      -2.44851       2.68392          1.75034       -0.853258\n",
       "     -0.853258      1.75034      -1.89107   …     -2.44851        1.18813 \n",
       "      0.644648     -1.318         1.40924          3.64367       -1.75657 \n",
       "     -0.508971      1.03804      -1.10145         -5.85079        2.79354 \n",
       "      0.417877     -0.850688      0.897526        10.3582        -4.87197 \n",
       "     -0.355458      0.72262      -0.759172       -20.9358         9.6018  \n",
       "      0.3124       -0.634436      0.664435  …     51.4191       -22.4913  \n",
       "     -0.283092      0.574491     -0.600296      -175.055         68.8393  \n",
       "      0.264117     -0.535717      0.558928      1216.68        -340.626   \n",
       "     -0.253445      0.513923     -0.535717     -6454.75        5375.94    \n",
       "      0.5          -1.01378       1.05647      21503.8       -20352.5     "
      ]
     },
     "execution_count": 136,
     "metadata": {},
     "output_type": "execute_result"
    }
   ],
   "source": [
    "diffmat(20,2)"
   ]
  },
  {
   "cell_type": "code",
   "execution_count": 142,
   "metadata": {},
   "outputs": [
    {
     "data": {
      "text/plain": [
       "gen_2dheat (generic function with 1 method)"
      ]
     },
     "execution_count": 142,
     "metadata": {},
     "output_type": "execute_result"
    }
   ],
   "source": [
    "function gen_2dheat(n)\n",
    "    h = 1 / (n - 1) # resolution of the discretization\n",
    "    innerA = diffmat(n-1, 2)\n",
    "    A = [zeros(n-1) innerA zeros(n-1) ]\n",
    "    A = vcat(A, zeros(n-1))\n",
    "    A = vcat(zeros(n-1), A)\n",
    "    tau = 0.2\n",
    "    x = repeat([collect(1:1:n)],n)\n",
    "    x = hcat(x...)\n",
    "    y = x'\n",
    "    C = log.(tau .+ abs.(x - y))\n",
    "    \n",
    "    return A,C\n",
    "end"
   ]
  },
  {
   "cell_type": "code",
   "execution_count": 155,
   "metadata": {},
   "outputs": [
    {
     "name": "stdout",
     "output_type": "stream",
     "text": [
      "(13, 15)"
     ]
    },
    {
     "ename": "ArgumentError",
     "evalue": "ArgumentError: number of columns of each array must match (got (14, 15, 14))",
     "output_type": "error",
     "traceback": [
      "ArgumentError: number of columns of each array must match (got (14, 15, 14))",
      "",
      "Stacktrace:",
      " [1] _typed_vcat(::Type{Float64}, ::Tuple{Adjoint{Float64,Array{Float64,1}},Array{Float64,2},Adjoint{Float64,Array{Float64,1}}}) at ./abstractarray.jl:1359",
      " [2] typed_vcat at ./abstractarray.jl:1373 [inlined]",
      " [3] vcat(::Adjoint{Float64,Array{Float64,1}}, ::Array{Float64,2}, ::Adjoint{Float64,Array{Float64,1}}) at /buildworker/worker/package_linux64/build/usr/share/julia/stdlib/v1.2/SparseArrays/src/sparsevector.jl:1079",
      " [4] top-level scope at In[155]:5"
     ]
    }
   ],
   "source": [
    "n=14\n",
    "innerA = diffmat(n-1, 2)\n",
    "A = [zeros(n-1) innerA zeros(n-1) ]\n",
    "print(size(A))\n",
    "A = [zeros(n)'; A ; zeros(n)' ]"
   ]
  },
  {
   "cell_type": "code",
   "execution_count": 148,
   "metadata": {},
   "outputs": [
    {
     "data": {
      "text/plain": [
       "3×4 Array{Float64,2}:\n",
       " 1.0  1.0  1.0  0.0\n",
       " 1.0  1.0  1.0  0.0\n",
       " 1.0  1.0  1.0  0.0"
      ]
     },
     "execution_count": 148,
     "metadata": {},
     "output_type": "execute_result"
    }
   ],
   "source": [
    "b = ones(3,3)\n",
    "[b zeros(3)]"
   ]
  },
  {
   "cell_type": "code",
   "execution_count": 143,
   "metadata": {},
   "outputs": [
    {
     "ename": "ArgumentError",
     "evalue": "ArgumentError: number of columns of each array must match (got (1, 9, 1))",
     "output_type": "error",
     "traceback": [
      "ArgumentError: number of columns of each array must match (got (1, 9, 1))",
      "",
      "Stacktrace:",
      " [1] _typed_vcat(::Type{Float64}, ::Tuple{Array{Float64,1},Array{Float64,2},Array{Float64,1}}) at ./abstractarray.jl:1359",
      " [2] typed_vcat at ./abstractarray.jl:1373 [inlined]",
      " [3] vcat at /buildworker/worker/package_linux64/build/usr/share/julia/stdlib/v1.2/SparseArrays/src/sparsevector.jl:1079 [inlined]",
      " [4] gen_2dheat(::Int64) at ./In[142]:4",
      " [5] top-level scope at In[143]:1"
     ]
    }
   ],
   "source": [
    "A,C = gen_2dheat(10)\n",
    "display(\"text/plain\",A)\n",
    "display(\"text/plain\",C)"
   ]
  },
  {
   "cell_type": "markdown",
   "metadata": {},
   "source": [
    "### Control Theory\n",
    "\n",
    "We look at the Sylvester-controller equation\n",
    "\n",
    "$$TX - XA = -GC $$\n",
    "\n",
    "The following code will generate an arbitrary $A$ and $B$ to frame the problem, a $T$ constructed based on a random spectrum $\\Omega$, and $G$  chosen such that $(T,G)$ is controllable."
   ]
  },
  {
   "cell_type": "code",
   "execution_count": 26,
   "metadata": {},
   "outputs": [
    {
     "data": {
      "text/plain": [
       "state_estimation (generic function with 1 method)"
      ]
     },
     "execution_count": 26,
     "metadata": {},
     "output_type": "execute_result"
    }
   ],
   "source": [
    "function state_estimation(n)\n",
    "    A,B,C = gen_balance(n)\n",
    "    evals = rand(n) .- 2\n",
    "    T = zeros((n,n))\n",
    "    T[diagind(T,0)] = evals\n",
    "    T[diagind(T,-1)] .= 1\n",
    "    G = zeros(n) \n",
    "    G[1] = 1\n",
    "    return A,T,B,G\n",
    "end"
   ]
  },
  {
   "cell_type": "code",
   "execution_count": 27,
   "metadata": {},
   "outputs": [
    {
     "data": {
      "text/plain": [
       "10×10 Array{Float64,2}:\n",
       "  0.0         1.0        0.0       …   0.0        0.0         0.0      \n",
       "  0.0         0.0        1.0           0.0        0.0         0.0      \n",
       "  0.0         0.0        0.0           0.0        0.0         0.0      \n",
       "  0.0         0.0        0.0           0.0        0.0         0.0      \n",
       "  0.0         0.0        0.0           0.0        0.0         0.0      \n",
       "  0.0         0.0        0.0       …   0.0        0.0         0.0      \n",
       "  0.0         0.0        0.0           1.0        0.0         0.0      \n",
       "  0.0         0.0        0.0           0.0        1.0         0.0      \n",
       "  0.0         0.0        0.0           0.0        0.0         1.0      \n",
       " -0.0564359  -0.263744  -0.865842     -0.477964  -0.0109068  -0.0981955"
      ]
     },
     "metadata": {},
     "output_type": "display_data"
    },
    {
     "data": {
      "text/plain": [
       "10×10 Array{Float64,2}:\n",
       " -1.15171   0.0       0.0       0.0      …   0.0       0.0       0.0    \n",
       "  1.0      -1.75048   0.0       0.0          0.0       0.0       0.0    \n",
       "  0.0       1.0      -1.80078   0.0          0.0       0.0       0.0    \n",
       "  0.0       0.0       1.0      -1.55203      0.0       0.0       0.0    \n",
       "  0.0       0.0       0.0       1.0          0.0       0.0       0.0    \n",
       "  0.0       0.0       0.0       0.0      …   0.0       0.0       0.0    \n",
       "  0.0       0.0       0.0       0.0          0.0       0.0       0.0    \n",
       "  0.0       0.0       0.0       0.0         -1.34291   0.0       0.0    \n",
       "  0.0       0.0       0.0       0.0          1.0      -1.16372   0.0    \n",
       "  0.0       0.0       0.0       0.0          0.0       1.0      -1.72796"
      ]
     },
     "metadata": {},
     "output_type": "display_data"
    },
    {
     "data": {
      "text/plain": [
       "10-element Array{Float64,1}:\n",
       " 1.0\n",
       " 0.0\n",
       " 0.0\n",
       " 0.0\n",
       " 0.0\n",
       " 0.0\n",
       " 0.0\n",
       " 0.0\n",
       " 0.0\n",
       " 0.0"
      ]
     },
     "metadata": {},
     "output_type": "display_data"
    }
   ],
   "source": [
    "A,T,B,G = state_estimation(10)\n",
    "display(\"text/plain\",A)\n",
    "display(\"text/plain\",T)\n",
    "display(\"text/plain\",G)"
   ]
  },
  {
   "cell_type": "markdown",
   "metadata": {},
   "source": [
    "### Image Denoising\n",
    "For this set of examples, the noisy image is generated from one of the Julia samples. The image can be changed to provide other examples.\n",
    "\n",
    "$$\\hat{F} \\Phi_{x}+\\sigma_{\\eta}^{2} \\Phi_{y}^{-1} \\hat{F}=G \\Phi_{x}$$\n",
    "\n",
    "We create the distorted image $G$ by adding Gaussian noise. The approximation of the original image is $\\hat F$."
   ]
  },
  {
   "cell_type": "code",
   "execution_count": 29,
   "metadata": {},
   "outputs": [
    {
     "name": "stderr",
     "output_type": "stream",
     "text": [
      "┌ Info: Precompiling TestImages [5e47fb64-e119-507b-a336-dd2b206d9990]\n",
      "└ @ Base loading.jl:1242\n",
      "┌ Info: Precompiling Images [916415d5-f1e6-5110-898d-aaa5f9f070e0]\n",
      "└ @ Base loading.jl:1242\n"
     ]
    },
    {
     "ename": "ArgumentError",
     "evalue": "ArgumentError: Package ImageView not found in current path:\n- Run `import Pkg; Pkg.add(\"ImageView\")` to install the ImageView package.\n",
     "output_type": "error",
     "traceback": [
      "ArgumentError: Package ImageView not found in current path:\n- Run `import Pkg; Pkg.add(\"ImageView\")` to install the ImageView package.\n",
      "",
      "Stacktrace:",
      " [1] require(::Module, ::Symbol) at ./loading.jl:876",
      " [2] top-level scope at In[29]:2"
     ]
    }
   ],
   "source": [
    "using TestImages\n",
    "using Images"
   ]
  },
  {
   "cell_type": "code",
   "execution_count": 64,
   "metadata": {},
   "outputs": [
    {
     "data": {
      "text/plain": [
       "gen_imagedenoise (generic function with 1 method)"
      ]
     },
     "execution_count": 64,
     "metadata": {},
     "output_type": "execute_result"
    }
   ],
   "source": [
    "function gen_imagedenoise(name)\n",
    "    rng = MersenneTwister(1234);\n",
    "    img = testimage(name)\n",
    "    gimg = Gray.(img)\n",
    "    mat = convert(Array{Float64}, gimg)\n",
    "    \n",
    "    n,m = size(gimg)\n",
    "    eta = rand(1)[1] \n",
    "    noise = zeros((n,m))\n",
    "    randn!(rng,noise)\n",
    "    noise *= eta\n",
    "    \n",
    "    G = noise + mat\n",
    "    \n",
    "    covx = cov(vec(G'), vec(G'))\n",
    "    covy = cov(vec(G), vec(G))\n",
    "    coveta = cov(vec(noise), vec(noise))\n",
    "    \n",
    "    return G, covx, covy, coveta\n",
    "end"
   ]
  },
  {
   "cell_type": "code",
   "execution_count": 66,
   "metadata": {},
   "outputs": [
    {
     "data": {
      "text/plain": [
       "([0.6249036448199897 0.32271742450677565 … 0.39723145226474815 0.3771489016972023; -0.036839176458840384 -0.2569794630976741 … 0.25311189731164246 0.14585741374171463; … ; -0.01519911191650302 0.21842942078581618 … 0.2513598471532658 -0.0690640884123215; 0.1132127608955376 -0.042103195887322906 … -0.1146461855823188 0.6997630866326513], 0.17082374821275553, 0.17082374821275628, 0.140512766982294)"
      ]
     },
     "execution_count": 66,
     "metadata": {},
     "output_type": "execute_result"
    }
   ],
   "source": [
    "G, covx, covy, coveta = gen_imagedenoise(\"lena_gray_16bit\")"
   ]
  },
  {
   "cell_type": "code",
   "execution_count": 67,
   "metadata": {},
   "outputs": [
    {
     "data": {
      "image/png": "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",
      "text/plain": [
       "256×256 Array{Gray{Float64},2} with eltype Gray{Float64}:\n",
       " Gray{Float64}(0.624904)    …  Gray{Float64}(0.377149)  \n",
       " Gray{Float64}(-0.0368392)     Gray{Float64}(0.145857)  \n",
       " Gray{Float64}(0.119591)       Gray{Float64}(-0.106713) \n",
       " Gray{Float64}(-0.0493621)     Gray{Float64}(0.233522)  \n",
       " Gray{Float64}(0.596015)       Gray{Float64}(0.133841)  \n",
       " Gray{Float64}(1.10393)     …  Gray{Float64}(0.108243)  \n",
       " Gray{Float64}(0.475858)       Gray{Float64}(0.410878)  \n",
       " Gray{Float64}(0.178831)       Gray{Float64}(0.099283)  \n",
       " Gray{Float64}(0.460581)       Gray{Float64}(-0.210822) \n",
       " Gray{Float64}(0.0754515)      Gray{Float64}(0.286283)  \n",
       " Gray{Float64}(0.0630187)   …  Gray{Float64}(-0.455993) \n",
       " Gray{Float64}(0.269338)       Gray{Float64}(-1.12792)  \n",
       " Gray{Float64}(0.316737)       Gray{Float64}(-0.324975) \n",
       " ⋮                          ⋱  ⋮                        \n",
       " Gray{Float64}(0.0753348)      Gray{Float64}(0.0879997) \n",
       " Gray{Float64}(0.125811)    …  Gray{Float64}(0.213894)  \n",
       " Gray{Float64}(-0.107514)      Gray{Float64}(-0.511216) \n",
       " Gray{Float64}(0.293046)       Gray{Float64}(-0.137059) \n",
       " Gray{Float64}(-0.486927)      Gray{Float64}(-0.146005) \n",
       " Gray{Float64}(-0.337789)      Gray{Float64}(-0.186282) \n",
       " Gray{Float64}(0.569648)    …  Gray{Float64}(0.158748)  \n",
       " Gray{Float64}(0.0545606)      Gray{Float64}(0.291009)  \n",
       " Gray{Float64}(-0.233166)      Gray{Float64}(-0.191929) \n",
       " Gray{Float64}(0.283221)       Gray{Float64}(0.146486)  \n",
       " Gray{Float64}(-0.0151991)     Gray{Float64}(-0.0690641)\n",
       " Gray{Float64}(0.113213)    …  Gray{Float64}(0.699763)  "
      ]
     },
     "execution_count": 67,
     "metadata": {},
     "output_type": "execute_result"
    }
   ],
   "source": [
    "Gray.(G)"
   ]
  },
  {
   "cell_type": "markdown",
   "metadata": {},
   "source": [
    "References:\n",
    "- [Linear Algebra and Dynamical Systems](https://web.stanford.edu/class/archive/ee/ee263/ee263.1082/notes/ee263coursereader.pdf) (page 15-8)"
   ]
  }
 ],
 "metadata": {
  "kernelspec": {
   "display_name": "Julia 1.2.0",
   "language": "julia",
   "name": "julia-1.2"
  },
  "language_info": {
   "file_extension": ".jl",
   "mimetype": "application/julia",
   "name": "julia",
   "version": "1.2.0"
  }
 },
 "nbformat": 4,
 "nbformat_minor": 2
}
