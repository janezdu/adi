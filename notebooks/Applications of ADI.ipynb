{
 "cells": [
  {
   "cell_type": "markdown",
   "metadata": {},
   "source": [
    "## In this Notebook\n",
    "* examples of applications of ADI \n"
   ]
  },
  {
   "cell_type": "code",
   "execution_count": 145,
   "metadata": {},
   "outputs": [],
   "source": [
    "using Random\n",
    "using LinearAlgebra\n",
    "using SparseArrays\n",
    "using Plots\n",
    "using Statistics"
   ]
  },
  {
   "cell_type": "markdown",
   "metadata": {},
   "source": [
    "### Dynamical Systems\n",
    "Given $x,u,y$ as state, input, and output vectors, we can work with the simple discrete-time linear system representing\n",
    "\n",
    "$$\\dot{x}=A x+B u, \\quad y=C x$$\n",
    "\n",
    "An example is a balance system. In this case, if $u$ is a horizontal vector\n",
    "\n",
    "$$A = \\left[\\begin{array}{ccccc}{0} & {1} & {0} & {\\dots} & {0} \\\\ {0} & {0} & {1} & {\\dots} & {0} \\\\ {\\vdots} & {} & {} & {\\ddots} & {} \\\\ {0} & {} & {} & {} & {1} \\\\ {-a_{n}} & {-a_{n-1}} & {\\dots} & {} & {-a_{1}}\\end{array}\\right], B = \\left[\\begin{array}{c}{0} \\\\ {0} \\\\ {\\vdots} \\\\ {0} \\\\ {1}\\end{array}\\right], C = \\left[\\begin{array}{llll}{b_{n}} & {b_{n-1}} & {\\ldots} & {b_{1}}\\end{array}\\right]^T $$\n",
    "\n",
    "\n",
    "This is based on the system on page 40 of [this systems modelling textbook](https://www.cds.caltech.edu/~murray/courses/cds101/fa04/caltech/am04_ch2-3oct04.pdf).\n",
    "\n",
    "The Sylvester equation arises in the Sylvester controller equation, which is included in the Control Theory section below."
   ]
  },
  {
   "cell_type": "code",
   "execution_count": 63,
   "metadata": {},
   "outputs": [
    {
     "data": {
      "text/plain": [
       "gen_balance (generic function with 1 method)"
      ]
     },
     "execution_count": 63,
     "metadata": {},
     "output_type": "execute_result"
    }
   ],
   "source": [
    "function gen_balance(n)\n",
    "    A = zeros((n-1,n-1)) + I\n",
    "    a = rand(n) .-1\n",
    "    A = [zeros(n-1) A; a']\n",
    "    B = zeros(n) \n",
    "    B[end] = 1\n",
    "    C = rand(n)'\n",
    "    return A,B,C\n",
    "end"
   ]
  },
  {
   "cell_type": "code",
   "execution_count": 65,
   "metadata": {},
   "outputs": [
    {
     "data": {
      "text/plain": [
       "10×10 Array{Float64,2}:\n",
       "  0.0        1.0        0.0       …   0.0        0.0        0.0     \n",
       "  0.0        0.0        1.0           0.0        0.0        0.0     \n",
       "  0.0        0.0        0.0           0.0        0.0        0.0     \n",
       "  0.0        0.0        0.0           0.0        0.0        0.0     \n",
       "  0.0        0.0        0.0           0.0        0.0        0.0     \n",
       "  0.0        0.0        0.0       …   0.0        0.0        0.0     \n",
       "  0.0        0.0        0.0           1.0        0.0        0.0     \n",
       "  0.0        0.0        0.0           0.0        1.0        0.0     \n",
       "  0.0        0.0        0.0           0.0        0.0        1.0     \n",
       " -0.158764  -0.356223  -0.881882     -0.388179  -0.669568  -0.715412"
      ]
     },
     "metadata": {},
     "output_type": "display_data"
    },
    {
     "data": {
      "text/plain": [
       "10-element Array{Float64,1}:\n",
       " 0.0\n",
       " 0.0\n",
       " 0.0\n",
       " 0.0\n",
       " 0.0\n",
       " 0.0\n",
       " 0.0\n",
       " 0.0\n",
       " 0.0\n",
       " 1.0"
      ]
     },
     "metadata": {},
     "output_type": "display_data"
    },
    {
     "data": {
      "text/plain": [
       "1×10 Adjoint{Float64,Array{Float64,1}}:\n",
       " 0.639791  0.652148  0.780869  0.059386  …  0.0826559  0.532068  0.734294"
      ]
     },
     "metadata": {},
     "output_type": "display_data"
    }
   ],
   "source": [
    "A,B,C = gen_balance(n)\n",
    "display(\"text/plain\",A)\n",
    "display(\"text/plain\",B)\n",
    "display(\"text/plain\",C)"
   ]
  },
  {
   "cell_type": "markdown",
   "metadata": {},
   "source": [
    "### PDE\n",
    "\n",
    "The example below is the 2D heat equation, or\n",
    "\n",
    "$$u' = \\alpha \\nabla ^2 u$$\n",
    "\n",
    "The boundary conditions are randomly generated in the function below."
   ]
  },
  {
   "cell_type": "code",
   "execution_count": 2,
   "metadata": {},
   "outputs": [
    {
     "data": {
      "text/plain": [
       "gen_2dheat (generic function with 1 method)"
      ]
     },
     "execution_count": 2,
     "metadata": {},
     "output_type": "execute_result"
    }
   ],
   "source": [
    "function gen_2dheat(n)\n",
    "    h = 1 / (n - 1) # resolution of the discretization\n",
    "    A = (1 / h^2) * SymTridiagonal(2 * ones(n), -1 * ones(n-1));\n",
    "    tau = 0.2\n",
    "    x = repeat([collect(1:1:n)],n)\n",
    "    x = hcat(x...)\n",
    "    y = x'\n",
    "    C = log.(tau .+ abs.(x - y))\n",
    "    \n",
    "    return A,C\n",
    "end"
   ]
  },
  {
   "cell_type": "code",
   "execution_count": 61,
   "metadata": {},
   "outputs": [
    {
     "data": {
      "text/plain": [
       "10×10 SymTridiagonal{Float64,Array{Float64,1}}:\n",
       " 162.0  -81.0     ⋅      ⋅      ⋅      ⋅      ⋅      ⋅      ⋅      ⋅ \n",
       " -81.0  162.0  -81.0     ⋅      ⋅      ⋅      ⋅      ⋅      ⋅      ⋅ \n",
       "    ⋅   -81.0  162.0  -81.0     ⋅      ⋅      ⋅      ⋅      ⋅      ⋅ \n",
       "    ⋅      ⋅   -81.0  162.0  -81.0     ⋅      ⋅      ⋅      ⋅      ⋅ \n",
       "    ⋅      ⋅      ⋅   -81.0  162.0  -81.0     ⋅      ⋅      ⋅      ⋅ \n",
       "    ⋅      ⋅      ⋅      ⋅   -81.0  162.0  -81.0     ⋅      ⋅      ⋅ \n",
       "    ⋅      ⋅      ⋅      ⋅      ⋅   -81.0  162.0  -81.0     ⋅      ⋅ \n",
       "    ⋅      ⋅      ⋅      ⋅      ⋅      ⋅   -81.0  162.0  -81.0     ⋅ \n",
       "    ⋅      ⋅      ⋅      ⋅      ⋅      ⋅      ⋅   -81.0  162.0  -81.0\n",
       "    ⋅      ⋅      ⋅      ⋅      ⋅      ⋅      ⋅      ⋅   -81.0  162.0"
      ]
     },
     "metadata": {},
     "output_type": "display_data"
    },
    {
     "data": {
      "text/plain": [
       "10×10 Array{Float64,2}:\n",
       " -1.60944    0.182322   0.788457  …   1.97408    2.10413    2.2192  \n",
       "  0.182322  -1.60944    0.182322      1.82455    1.97408    2.10413 \n",
       "  0.788457   0.182322  -1.60944       1.64866    1.82455    1.97408 \n",
       "  1.16315    0.788457   0.182322      1.43508    1.64866    1.82455 \n",
       "  1.43508    1.16315    0.788457      1.16315    1.43508    1.64866 \n",
       "  1.64866    1.43508    1.16315   …   0.788457   1.16315    1.43508 \n",
       "  1.82455    1.64866    1.43508       0.182322   0.788457   1.16315 \n",
       "  1.97408    1.82455    1.64866      -1.60944    0.182322   0.788457\n",
       "  2.10413    1.97408    1.82455       0.182322  -1.60944    0.182322\n",
       "  2.2192     2.10413    1.97408       0.788457   0.182322  -1.60944 "
      ]
     },
     "metadata": {},
     "output_type": "display_data"
    }
   ],
   "source": [
    "A,C = gen_2dheat(10)\n",
    "display(\"text/plain\",A)\n",
    "display(\"text/plain\",C)"
   ]
  },
  {
   "cell_type": "markdown",
   "metadata": {},
   "source": [
    "### Control Theory\n",
    "\n",
    "We look at the Sylvester-controller equation\n",
    "\n",
    "$$TX - XA = -GC $$\n",
    "\n",
    "The following code will generate an arbitrary $A$ and $B$ to frame the problem, a $T$ constructed based on a random spectrum $\\Omega$, and $G$  chosen such that $(T,G)$ is controllable."
   ]
  },
  {
   "cell_type": "code",
   "execution_count": 60,
   "metadata": {},
   "outputs": [
    {
     "data": {
      "text/plain": [
       "state_estimation (generic function with 1 method)"
      ]
     },
     "execution_count": 60,
     "metadata": {},
     "output_type": "execute_result"
    }
   ],
   "source": [
    "function state_estimation(n)\n",
    "    A,B,C = gen_balance(n)\n",
    "    evals = rand(n) .- 2\n",
    "    T = zeros((n,n))\n",
    "    T[diagind(T,0)] = evals\n",
    "    T[diagind(T,-1)] .= 1\n",
    "    G = zeros(n) \n",
    "    G[1] = 1\n",
    "    return A,T,B,G\n",
    "end"
   ]
  },
  {
   "cell_type": "code",
   "execution_count": 59,
   "metadata": {},
   "outputs": [
    {
     "data": {
      "text/plain": [
       "10×10 Array{Float64,2}:\n",
       "  0.0         1.0        0.0       …   0.0        0.0        0.0     \n",
       "  0.0         0.0        1.0           0.0        0.0        0.0     \n",
       "  0.0         0.0        0.0           0.0        0.0        0.0     \n",
       "  0.0         0.0        0.0           0.0        0.0        0.0     \n",
       "  0.0         0.0        0.0           0.0        0.0        0.0     \n",
       "  0.0         0.0        0.0       …   0.0        0.0        0.0     \n",
       "  0.0         0.0        0.0           1.0        0.0        0.0     \n",
       "  0.0         0.0        0.0           0.0        1.0        0.0     \n",
       "  0.0         0.0        0.0           0.0        0.0        1.0     \n",
       " -0.0453961  -0.110601  -0.019793     -0.231459  -0.551584  -0.491182"
      ]
     },
     "metadata": {},
     "output_type": "display_data"
    },
    {
     "data": {
      "text/plain": [
       "10×10 Array{Float64,2}:\n",
       " -0.917166   0.0       0.0       …   0.0        0.0        0.0     \n",
       "  1.0       -0.51677   0.0           0.0        0.0        0.0     \n",
       "  0.0        1.0      -0.614719      0.0        0.0        0.0     \n",
       "  0.0        0.0       1.0           0.0        0.0        0.0     \n",
       "  0.0        0.0       0.0           0.0        0.0        0.0     \n",
       "  0.0        0.0       0.0       …   0.0        0.0        0.0     \n",
       "  0.0        0.0       0.0           0.0        0.0        0.0     \n",
       "  0.0        0.0       0.0          -0.510934   0.0        0.0     \n",
       "  0.0        0.0       0.0           1.0       -0.841421   0.0     \n",
       "  0.0        0.0       0.0           0.0        1.0       -0.803667"
      ]
     },
     "metadata": {},
     "output_type": "display_data"
    },
    {
     "data": {
      "text/plain": [
       "10-element Array{Float64,1}:\n",
       " 0.0\n",
       " 0.0\n",
       " 0.0\n",
       " 0.0\n",
       " 0.0\n",
       " 0.0\n",
       " 0.0\n",
       " 0.0\n",
       " 0.0\n",
       " 1.0"
      ]
     },
     "metadata": {},
     "output_type": "display_data"
    }
   ],
   "source": [
    "A,T, G = state_estimation(10)\n",
    "display(\"text/plain\",A)\n",
    "display(\"text/plain\",T)\n",
    "display(\"text/plain\",G)"
   ]
  },
  {
   "cell_type": "markdown",
   "metadata": {},
   "source": [
    "### Image Denoising\n",
    "For this set of examples, the noisy image is generated from one of the Julia samples. The image can be changed to provide other examples.\n",
    "\n",
    "$$\\hat{F} \\Phi_{x}+\\sigma_{\\eta}^{2} \\Phi_{y}^{-1} \\hat{F}=G \\Phi_{x}$$\n",
    "\n",
    "We create the distorted image $G$ by adding Gaussian noise. The approximation of the original image is $\\hat F$."
   ]
  },
  {
   "cell_type": "code",
   "execution_count": 176,
   "metadata": {},
   "outputs": [
    {
     "name": "stderr",
     "output_type": "stream",
     "text": [
      "┌ Info: Precompiling ImageView [86fae568-95e7-573e-a6b2-d8a6b900c9ef]\n",
      "└ @ Base loading.jl:1242\n"
     ]
    }
   ],
   "source": [
    "using TestImages\n",
    "using Images, ImageView"
   ]
  },
  {
   "cell_type": "code",
   "execution_count": 169,
   "metadata": {},
   "outputs": [
    {
     "data": {
      "text/plain": [
       "gen_imagedenoise (generic function with 1 method)"
      ]
     },
     "execution_count": 169,
     "metadata": {},
     "output_type": "execute_result"
    }
   ],
   "source": [
    "function gen_imagedenoise(name)\n",
    "    rng = MersenneTwister(1234);\n",
    "    img = testimage(name)\n",
    "    gimg = Gray.(img)\n",
    "    channels = float(channelview(gimg))\n",
    "    \n",
    "    n,m = size(gimg)\n",
    "    eta = rand(1)[1]\n",
    "    noise = zeros((n,m))\n",
    "    randn!(rng,noise)\n",
    "    \n",
    "    G = noise + channels\n",
    "    \n",
    "    covx = cov(vec(G'), vec(G'))\n",
    "    covy = cov(vec(G), vec(G))\n",
    "    coveta = cov(vec(noise), vec(noise))\n",
    "    \n",
    "    return G, covx, covy, coveta\n",
    "end"
   ]
  },
  {
   "cell_type": "code",
   "execution_count": 178,
   "metadata": {},
   "outputs": [
    {
     "data": {
      "image/png": "[encoded data removed]",
      "text/plain": [
       "256×256 Array{Gray{Float64},2} with eltype Gray{Float64}:\n",
       " Gray{Float64}(1.16781)     …  Gray{Float64}(0.64338)   \n",
       " Gray{Float64}(-0.601278)      Gray{Float64}(-0.0101879)\n",
       " Gray{Float64}(-0.189924)      Gray{Float64}(-0.508837) \n",
       " Gray{Float64}(-0.614534)      Gray{Float64}(0.584461)  \n",
       " Gray{Float64}(1.13708)        Gray{Float64}(0.327523)  \n",
       " Gray{Float64}(2.48843)     …  Gray{Float64}(0.252887)  \n",
       " Gray{Float64}(0.809368)       Gray{Float64}(1.06029)   \n",
       " Gray{Float64}(0.0087407)      Gray{Float64}(0.225588)  \n",
       " Gray{Float64}(0.775013)       Gray{Float64}(-0.600095) \n",
       " Gray{Float64}(-0.24815)       Gray{Float64}(0.732022)  \n",
       " Gray{Float64}(-0.287823)   …  Gray{Float64}(-1.25719)  \n",
       " Gray{Float64}(0.257263)       Gray{Float64}(-3.0587)   \n",
       " Gray{Float64}(0.396898)       Gray{Float64}(-0.913928) \n",
       " ⋮                          ⋱  ⋮                        \n",
       " Gray{Float64}(0.16491)        Gray{Float64}(0.18046)   \n",
       " Gray{Float64}(0.310604)    …  Gray{Float64}(0.528489)  \n",
       " Gray{Float64}(-0.319217)      Gray{Float64}(-1.39846)  \n",
       " Gray{Float64}(0.745277)       Gray{Float64}(-0.413393) \n",
       " Gray{Float64}(-1.35064)       Gray{Float64}(-0.433658) \n",
       " Gray{Float64}(-0.953851)      Gray{Float64}(-0.528287) \n",
       " Gray{Float64}(1.48132)     …  Gray{Float64}(0.37925)   \n",
       " Gray{Float64}(0.107713)       Gray{Float64}(0.68792)   \n",
       " Gray{Float64}(-0.66149)       Gray{Float64}(-0.622898) \n",
       " Gray{Float64}(0.713827)       Gray{Float64}(0.266418)  \n",
       " Gray{Float64}(-0.0739551)     Gray{Float64}(-0.326375) \n",
       " Gray{Float64}(0.269339)    …  Gray{Float64}(1.70767)   "
      ]
     },
     "execution_count": 178,
     "metadata": {},
     "output_type": "execute_result"
    }
   ],
   "source": [
    "G, covx, covy, coveta = gen_imagedenoise(\"lena_gray_16bit\")\n",
    "G = channels + noise\n",
    "Gray.(G)"
   ]
  }
 ],
 "metadata": {
  "kernelspec": {
   "display_name": "Julia 1.2.0",
   "language": "julia",
   "name": "julia-1.2"
  },
  "language_info": {
   "file_extension": ".jl",
   "mimetype": "application/julia",
   "name": "julia",
   "version": "1.2.0"
  }
 },
 "nbformat": 4,
 "nbformat_minor": 2
}
