{
 "cells": [
  {
   "cell_type": "markdown",
   "metadata": {},
   "source": [
    "## In this Notebook\n",
    "* examples of applications of ADI \n"
   ]
  },
  {
   "cell_type": "code",
   "execution_count": 2,
   "metadata": {},
   "outputs": [],
   "source": [
    "using Random\n",
    "using LinearAlgebra\n",
    "using SparseArrays\n",
    "using Plots"
   ]
  },
  {
   "cell_type": "markdown",
   "metadata": {},
   "source": [
    "### Dynamical Systems\n",
    "Given $x,u,y$ as state, input, and output vectors, we can work with the simple discrete-time linear system representing\n",
    "\n",
    "$$\\dot{x}=A x+B u, \\quad y=C x$$\n",
    "\n",
    "A banded system, determining vibrations across a guitar string? heat across a bar\n"
   ]
  },
  {
   "cell_type": "code",
   "execution_count": null,
   "metadata": {},
   "outputs": [],
   "source": [
    "function \n",
    "    \n",
    "    "
   ]
  },
  {
   "cell_type": "markdown",
   "metadata": {},
   "source": [
    "### PDE\n",
    "\n",
    "The example below is the 2D heat equation, or\n",
    "\n",
    "$$u' = \\alpha \\nabla ^2 u$$\n",
    "\n",
    "The boundary conditions are randomly generated in the function below."
   ]
  },
  {
   "cell_type": "code",
   "execution_count": 17,
   "metadata": {},
   "outputs": [
    {
     "data": {
      "text/plain": [
       "10×10 Array{Float64,2}:\n",
       " -1.60944    0.182322   0.788457  …   1.97408    2.10413    2.2192  \n",
       "  0.182322  -1.60944    0.182322      1.82455    1.97408    2.10413 \n",
       "  0.788457   0.182322  -1.60944       1.64866    1.82455    1.97408 \n",
       "  1.16315    0.788457   0.182322      1.43508    1.64866    1.82455 \n",
       "  1.43508    1.16315    0.788457      1.16315    1.43508    1.64866 \n",
       "  1.64866    1.43508    1.16315   …   0.788457   1.16315    1.43508 \n",
       "  1.82455    1.64866    1.43508       0.182322   0.788457   1.16315 \n",
       "  1.97408    1.82455    1.64866      -1.60944    0.182322   0.788457\n",
       "  2.10413    1.97408    1.82455       0.182322  -1.60944    0.182322\n",
       "  2.2192     2.10413    1.97408       0.788457   0.182322  -1.60944 "
      ]
     },
     "execution_count": 17,
     "metadata": {},
     "output_type": "execute_result"
    }
   ],
   "source": [
    "n = 10\n",
    "h = 1 / (n - 1)\n",
    "A = (1 / h^2) * SymTridiagonal(2 * ones(n), -1 * ones(n-1));\n",
    "A\n",
    "tau = 0.2\n",
    "x = repeat([collect(1:1:n)],n)\n",
    "x = hcat(x...)\n",
    "y = x'\n",
    "\n",
    "C = log.(tau .+ abs.(x - y))\n",
    "\n",
    "\n"
   ]
  },
  {
   "cell_type": "code",
   "execution_count": null,
   "metadata": {},
   "outputs": [],
   "source": [
    "function heat_visualizer(A)\n",
    "    \n",
    "end"
   ]
  },
  {
   "cell_type": "markdown",
   "metadata": {},
   "source": [
    "### Control Theory"
   ]
  },
  {
   "cell_type": "code",
   "execution_count": null,
   "metadata": {},
   "outputs": [],
   "source": []
  },
  {
   "cell_type": "markdown",
   "metadata": {},
   "source": [
    "### Image Denoising"
   ]
  },
  {
   "cell_type": "code",
   "execution_count": null,
   "metadata": {},
   "outputs": [],
   "source": []
  }
 ],
 "metadata": {
  "kernelspec": {
   "display_name": "Julia 1.2.0",
   "language": "julia",
   "name": "julia-1.2"
  },
  "language_info": {
   "file_extension": ".jl",
   "mimetype": "application/julia",
   "name": "julia",
   "version": "1.2.0"
  }
 },
 "nbformat": 4,
 "nbformat_minor": 2
}
