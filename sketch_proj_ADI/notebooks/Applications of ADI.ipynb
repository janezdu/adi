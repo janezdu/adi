{
 "cells": [
  {
   "cell_type": "markdown",
   "metadata": {},
   "source": [
    "## In this Notebook\n",
    "* examples of applications of ADI \n",
    "    - Modelling electrical networks\n",
    "    - Spectral discretizations of PDEs\n",
    "    - image denoising"
   ]
  },
  {
   "cell_type": "code",
   "execution_count": 3,
   "metadata": {},
   "outputs": [
    {
     "data": {
      "text/plain": [
       "Main.RandAdi"
      ]
     },
     "execution_count": 3,
     "metadata": {},
     "output_type": "execute_result"
    }
   ],
   "source": [
    "using Random\n",
    "using LinearAlgebra\n",
    "using SparseArrays\n",
    "using Plots\n",
    "using Statistics\n",
    "\n",
    "include(\"./randadi.jl\")\n",
    "# using .RandAdi"
   ]
  },
  {
   "cell_type": "markdown",
   "metadata": {},
   "source": [
    "### Dynamical Systems\n",
    "Given $x,u,y$ as state, input, and output vectors, we can work with the simple discrete-time linear system representing\n",
    "\n",
    "$$\\dot{x}=A x+B u, \\quad y=C x$$\n",
    "\n",
    "One application might be to model a complex electronic circuit. For this toy example (see references), consider an RC circuit with $n$ different voltage inputs and a conductance matrix $G \\in \\mathbb R ^ { n \\times n}$. Note that the conductance matrix is constructed with $\\frac{1}{r_{ij}}$ for the resistances of each component in a grid $r_{ij}$. \n",
    "\n",
    "![](rccirc.png)\n",
    "\n",
    "We have $c_{k} \\dot{v}_{k}=-i_{k}$ for each input, as well as $i = Gv$ for the current in the whole circuit. We represent the capacitances with $C=\\operatorname{diag}\\left(c_{1}, \\ldots, c_{n}\\right)$, resulting in the system\n",
    "\n",
    "$$\\dot{v}=-C^{-1} G v$$\n",
    "\n",
    "If we input a signal at $v_1$ for example, the effects on the sytem can be modelled. This is represented below in the `gen_circ` function.\n",
    "\n",
    "One application is modelling Very-large-scale integration (VLSI) circuits. These chips operate on a high enough frequency, and are dense enough with microscopic components, that the distance between transistors needs to be modelled.\n",
    "\n",
    "The Sylvester equation arises in the Sylvester controller equation, which is included in the Control Theory section below."
   ]
  },
  {
   "cell_type": "code",
   "execution_count": 4,
   "metadata": {},
   "outputs": [
    {
     "data": {
      "text/plain": [
       "incident_matrix (generic function with 1 method)"
      ]
     },
     "execution_count": 4,
     "metadata": {},
     "output_type": "execute_result"
    }
   ],
   "source": [
    "# Creats an incident matrix for a graph \n",
    "# structured as a n x m lattice\n",
    "function incident_matrix(n,m)\n",
    "    # for now\n",
    "    numnodes = n * m\n",
    "    \n",
    "    verts = zeros(numnodes, m*(n-1))\n",
    "    horz = zeros(numnodes, n* (m-1))\n",
    "    \n",
    "    # vertical edges in grid\n",
    "    for e = 1:(m*(n-1))\n",
    "        q = div((e-1), (n-1))\n",
    "        r = (e-1) % (n-1)\n",
    "        verts[n * q + r + 1,e] = 1\n",
    "        verts[n * q + r + 2,e] = -1\n",
    "    end\n",
    "    \n",
    "    # horizontal edges in grid\n",
    "    for e = 1:(n*(m-1))\n",
    "        q = div(e, n)\n",
    "        r = (e) % (n)\n",
    "        horz[n * q + r ,e] = 1\n",
    "        horz[n * q + r + n,e] = -1\n",
    "    end\n",
    "    \n",
    "    Ag = [verts horz]\n",
    "end"
   ]
  },
  {
   "cell_type": "code",
   "execution_count": 5,
   "metadata": {},
   "outputs": [
    {
     "data": {
      "text/plain": [
       "gen_circ (generic function with 1 method)"
      ]
     },
     "execution_count": 5,
     "metadata": {},
     "output_type": "execute_result"
    }
   ],
   "source": [
    "# Generates the matrices plugged into the Sylvester Equation\n",
    "function gen_circ(n)\n",
    "    # setup from VLSI notes\n",
    "    r = Int(sqrt(n))\n",
    "    c = Int(sqrt(n))\n",
    "    Ag = incident_matrix(r,c)\n",
    "    Ac = incident_matrix(r,c)\n",
    "\n",
    "    numnodes = r * c\n",
    "    numedges = r * (c - 1) + c * (r - 1)\n",
    "\n",
    "    Gc = Diagonal(rand(numedges))\n",
    "    d =  numnodes + 2 * numedges\n",
    "\n",
    "    G = zeros(d, d)\n",
    "    G[1:numnodes,1:numnodes] = Ag * Gc * Ag'\n",
    "    G[numnodes+1:end,1:numnodes]  = [Ag Ag]'\n",
    "    G[1:numnodes, numnodes + 1:end] = [Ag Ag]''\n",
    "\n",
    "    Cinv = Diagonal(1 ./ rand(numedges))\n",
    "    G = Cinv * G\n",
    "    \n",
    "    B = Diagonal(rand(numedges))\n",
    "\n",
    "    C = zeros(d, d)\n",
    "    C[1:numnodes,1:numnodes] = Ac * Cc * Ac'\n",
    "    C[numnodes + 1: numnodes + numedges,numnodes + 1: numnodes + numedges]  = -1 .* Lc\n",
    "    \n",
    "    # matrices for sylvester equation\n",
    "    Gi = inv(G) # fix this later; how to represent inverse of incidence matrix?\n",
    "    \n",
    "    return Gi * C, Gi * B\n",
    "end"
   ]
  },
  {
   "cell_type": "code",
   "execution_count": null,
   "metadata": {},
   "outputs": [],
   "source": [
    "Lc = [1,2,3,4,5,6]\n",
    "Dinv = Diagonal(1 ./ Lc)\n",
    "D = Diagonal(Lc)\n",
    "P = rand(3,6)\n",
    "\n",
    "A = P * D * P'\n",
    "B = P * Dinv * P'\n",
    "# C = A * B"
   ]
  },
  {
   "cell_type": "markdown",
   "metadata": {},
   "source": [
    "### cells testing the VLSI representation equation\n",
    "- problem: different form from x = Mx' + Bu.\n",
    "- To convert to that form we need to invert the matrix C from Gx + Cx' = Bu"
   ]
  },
  {
   "cell_type": "code",
   "execution_count": null,
   "metadata": {},
   "outputs": [],
   "source": [
    "n = 4\n",
    "\n",
    "r = Int(sqrt(n))\n",
    "c = Int(sqrt(n))\n",
    "Ag = incident_matrix(r,c)\n",
    "Ac = incident_matrix(r,c)\n",
    "\n",
    "numnodes = r * c\n",
    "numedges = r * (c - 1) + c * (r - 1)\n",
    "# print(numedges)\n",
    "\n",
    "Gc = Diagonal(rand(numedges))\n",
    "Cc = Diagonal(rand(numedges))\n",
    "Lc = Diagonal(rand(numedges))\n",
    "d =  numnodes + 2 * numedges"
   ]
  },
  {
   "cell_type": "code",
   "execution_count": null,
   "metadata": {},
   "outputs": [],
   "source": [
    "G = zeros(d, d)\n",
    "G[1:numnodes,1:numnodes] = Ag * Gc * Ag'\n",
    "G[numnodes+1:end,1:numnodes]  = [Ag Ag]'\n",
    "G[1:numnodes, numnodes + 1:end] = [Ag Ag]''\n",
    "\n",
    "C = zeros(d, d)\n",
    "C[1:numnodes,1:numnodes] = Ac * Cc * Ac'\n",
    "C[numnodes + 1: numnodes + numedges,numnodes + 1: numnodes + numedges]  = -1 .* Lc\n",
    "\n",
    "# matrices for sylvester equation\n",
    "Cinv = inv(C)# fix this later; how to represent inverse of incidence matrix?\n",
    "\n",
    "B = Diagonal(rand(numedges))\n",
    "\n",
    "return -1 * Cinv * G, Cinv * B"
   ]
  },
  {
   "cell_type": "code",
   "execution_count": null,
   "metadata": {},
   "outputs": [],
   "source": [
    "M,B= gen_circ(9)\n",
    "Cinv = Diagonal(1 ./ rand(numedges))\n",
    "G = Cinv * G\n",
    "display(\"text/plain\",G)\n",
    "display(\"text/plain\",C)"
   ]
  },
  {
   "cell_type": "markdown",
   "metadata": {},
   "source": [
    "The Sylvester equation is instead of the form  $XA - TX = GC$. We are given $A$ (dense, nonnormal) and $C$, and can construct T and G. By choosing T with disjoint spectrum from A we have better guarantees on the number of iterations to converge for ADI, and G is chosen so that (T,G) is controllable -- in other words, "
   ]
  },
  {
   "cell_type": "markdown",
   "metadata": {},
   "source": [
    "### Control Theory\n",
    "\n",
    "We look at the Sylvester-controller equation\n",
    "\n",
    "$$TX - XA = -GC $$\n",
    "\n",
    "The following code will generate an arbitrary $A$ and $B$ to frame the problem, a $T$ constructed based on a random spectrum $\\Omega$, and $G$  chosen such that $(T,G)$ is controllable."
   ]
  },
  {
   "cell_type": "code",
   "execution_count": null,
   "metadata": {},
   "outputs": [],
   "source": [
    "function state_estimation(n)\n",
    "    A,B,C = gen_balance(n)\n",
    "    evals = rand(n) .- 2\n",
    "    T = zeros((n,n))\n",
    "    T[diagind(T,0)] = evals\n",
    "    T[diagind(T,-1)] .= 1\n",
    "    G = zeros(n) \n",
    "    G[1] = 1\n",
    "    return A,T,B,G\n",
    "end"
   ]
  },
  {
   "cell_type": "code",
   "execution_count": null,
   "metadata": {},
   "outputs": [],
   "source": [
    "A,T,B,G = state_estimation(10)\n",
    "display(\"text/plain\",A)\n",
    "display(\"text/plain\",T)\n",
    "display(\"text/plain\",G)"
   ]
  },
  {
   "cell_type": "markdown",
   "metadata": {},
   "source": [
    "### PDE\n",
    "\n",
    "The example below is the 2D heat equation, or\n",
    "\n",
    "$$u' = \\alpha \\nabla ^2 u$$\n",
    "\n",
    "The boundary conditions are randomly generated in the function below. We also ensure that the boundaries of the function $u$ are 0, and use the spectral method to generate dense A and B."
   ]
  },
  {
   "cell_type": "code",
   "execution_count": 6,
   "metadata": {},
   "outputs": [
    {
     "data": {
      "text/plain": [
       "chebpts (generic function with 2 methods)"
      ]
     },
     "execution_count": 6,
     "metadata": {},
     "output_type": "execute_result"
    }
   ],
   "source": [
    "function diffmat(N,k)\n",
    "    if N == 0 D = []; return end\n",
    "    if N == 1 D = 0; return end\n",
    "    D = []\n",
    "    \n",
    "    x = chebpts(N);\n",
    "    w = [.5 ; ones(N-1,1)]; w[2:2:end] .= -1; w[N] = .5*w[N];\n",
    "\n",
    "    ii = diagind(zeros(N,N))\n",
    "    Dx = broadcast(-,x,x');       # all pairwise differences\n",
    "    Dx = Dx + I;            # add identity\n",
    "    Dxi = 1 ./ Dx;                    # reciprocal \n",
    "    Dw = broadcast(/,w',w);    # pairwise divisions\n",
    "    Dw = Dw - I;            # subtract identity\n",
    "\n",
    "    D = Dw .* Dxi\n",
    "    if k == 1\n",
    "        D = Dw .* Dxi;\n",
    "        D[ii] .= 0; D[ii] = -1 * sum(D, dims=2);              # negative sum trick\n",
    "    elseif k == 2 \n",
    "        D = 2*D .* (repeat(D[ii],1,N) - Dxi);\n",
    "        D[ii] .= 0; D[ii] = -1 * sum(D, dims=2);              # negative sum trick\n",
    "    else\n",
    "        D = k*Dxi .* (Dw.*repeat(D[ii],1,N) - D);\n",
    "        D[ii] .= 0; D[ii] = -1 * sum(D,dims=2);               # negative sum trick\n",
    "    end\n",
    "    \n",
    "    return D\n",
    "end\n",
    "\n",
    "# Chebyshev points on an interval\n",
    "# https://github.com/ay2718/spectral-pde-solver/blob/master/chebpts.jl\n",
    "function chebpts(n, interval = [-1.0, 1.0])\n",
    "    m = n-1;\n",
    "    chpts = sin.(pi*(-m:2:m) ./ (2*m));\n",
    "    chpts.*=(0.5*diff(interval));\n",
    "    chpts.+=(0.5*sum(interval));\n",
    "    chpts\n",
    "end"
   ]
  },
  {
   "cell_type": "code",
   "execution_count": 7,
   "metadata": {},
   "outputs": [
    {
     "data": {
      "text/plain": [
       "20×20 Array{Float64,2}:\n",
       " -20352.5       21503.8       -1362.5       …     -1.01378        0.5     \n",
       "   5375.94      -6454.75       1216.68             0.513923      -0.253445\n",
       "   -340.626      1216.68      -1268.4             -0.535717       0.264117\n",
       "     68.8393     -175.055       454.395            0.574491      -0.283092\n",
       "    -22.4913       51.4191      -81.4744          -0.634436       0.3124  \n",
       "      9.6018      -20.9358       27.7349    …      0.72262       -0.355458\n",
       "     -4.87197      10.3582      -12.571           -0.850688       0.417877\n",
       "      2.79354      -5.85079       6.75519          1.03804       -0.508971\n",
       "     -1.75657       3.64367      -4.07777         -1.318          0.644648\n",
       "      1.18813      -2.44851       2.68392          1.75034       -0.853258\n",
       "     -0.853258      1.75034      -1.89107   …     -2.44851        1.18813 \n",
       "      0.644648     -1.318         1.40924          3.64367       -1.75657 \n",
       "     -0.508971      1.03804      -1.10145         -5.85079        2.79354 \n",
       "      0.417877     -0.850688      0.897526        10.3582        -4.87197 \n",
       "     -0.355458      0.72262      -0.759172       -20.9358         9.6018  \n",
       "      0.3124       -0.634436      0.664435  …     51.4191       -22.4913  \n",
       "     -0.283092      0.574491     -0.600296      -175.055         68.8393  \n",
       "      0.264117     -0.535717      0.558928      1216.68        -340.626   \n",
       "     -0.253445      0.513923     -0.535717     -6454.75        5375.94    \n",
       "      0.5          -1.01378       1.05647      21503.8       -20352.5     "
      ]
     },
     "execution_count": 7,
     "metadata": {},
     "output_type": "execute_result"
    }
   ],
   "source": [
    "D = diffmat(20,2)"
   ]
  },
  {
   "cell_type": "code",
   "execution_count": 8,
   "metadata": {},
   "outputs": [
    {
     "data": {
      "text/plain": [
       "gen_2dheat (generic function with 1 method)"
      ]
     },
     "execution_count": 8,
     "metadata": {},
     "output_type": "execute_result"
    }
   ],
   "source": [
    "function gen_2dheat(n)\n",
    "    h = 1 / (n - 1) # resolution of the discretization\n",
    "    innerA = diffmat(n-2, 2)\n",
    "    A = [zeros(n-2) innerA zeros(n-2) ]\n",
    "    A = [zeros(n)'; A ; zeros(n)' ]\n",
    "    tau = 0.2\n",
    "    x = repeat([collect(1:1:n)],n)\n",
    "    x = hcat(x...)\n",
    "    y = x'\n",
    "    C = log.(tau .+ abs.(x - y))\n",
    "    \n",
    "    return A,C\n",
    "end"
   ]
  },
  {
   "cell_type": "code",
   "execution_count": 120,
   "metadata": {},
   "outputs": [
    {
     "data": {
      "text/plain": [
       "adi_solve2 (generic function with 1 method)"
      ]
     },
     "execution_count": 120,
     "metadata": {},
     "output_type": "execute_result"
    }
   ],
   "source": [
    "# import .RandAdi: adi_solve\n",
    "\n",
    "function adi_solve2(A,B,F,N,p,q)\n",
    "    \"\"\"\n",
    "    Uses randomized ADI to solve the equation AX - XB = F\n",
    "    INPUT:\n",
    "            A: matrix mxn\n",
    "            B: matrix mxk\n",
    "    OUTPUT: X: matrix such that AX = B\n",
    "    \"\"\"\n",
    "    m,m2 = size(A)\n",
    "    n,n2 = size(B)\n",
    "    \n",
    "    @assert m==m2\n",
    "    @assert n==n2\n",
    "\n",
    "    sols = []\n",
    "    Xprev = zeros((m,n))\n",
    "    for i = 1:N\n",
    "        display(\"==================== new iteration\")\n",
    "        Ahalf = (A - p[i] * I)\n",
    "        Bhalf = Xprev * (B - q[i] * I) + F\n",
    "        \n",
    "        Xhalf = RandAdi.rand_matsolve(Ahalf,Bhalf)\n",
    "\n",
    "        Asolve = (B - q[i] * I)\n",
    "        Bsolve = (A - q[i] * I) * Xhalf - F\n",
    "        X = (RandAdi.rand_matsolve(Asolve', Bsolve'))'\n",
    "\n",
    "        Xprev = X\n",
    "        display(\"X\")\n",
    "        display(\"text/plain\",X)\n",
    "        push!(sols,X)\n",
    "    end\n",
    "    return sols\n",
    "end"
   ]
  },
  {
   "cell_type": "code",
   "execution_count": 121,
   "metadata": {},
   "outputs": [
    {
     "data": {
      "text/plain": [
       "([0.0 0.0 … 0.0 0.0; 0.0 -14.722222222222221 … 0.5 0.0; … ; 0.0 0.5 … -14.722222222222221 0.0; 0.0 0.0 … 0.0 0.0], [-1.6094379124341003 0.1823215567939546 … 1.4350845252893227 1.6486586255873816; 0.1823215567939546 -1.6094379124341003 … 1.1631508098056809 1.4350845252893227; … ; 1.4350845252893227 1.1631508098056809 … -1.6094379124341003 0.1823215567939546; 1.6486586255873816 1.4350845252893227 … 0.1823215567939546 -1.6094379124341003])"
      ]
     },
     "execution_count": 121,
     "metadata": {},
     "output_type": "execute_result"
    }
   ],
   "source": [
    "A,C = gen_2dheat(6)\n",
    "# display(\"text/plain\",A)\n",
    "# display(\"text/plain\",C)"
   ]
  },
  {
   "cell_type": "code",
   "execution_count": 122,
   "metadata": {},
   "outputs": [
    {
     "name": "stderr",
     "output_type": "stream",
     "text": [
      "WARNING: replacing module RandAdi.\n"
     ]
    },
    {
     "data": {
      "text/plain": [
       "Main.RandAdi"
      ]
     },
     "execution_count": 122,
     "metadata": {},
     "output_type": "execute_result"
    }
   ],
   "source": [
    "include(\"./randadi.jl\")"
   ]
  },
  {
   "cell_type": "code",
   "execution_count": 123,
   "metadata": {},
   "outputs": [
    {
     "data": {
      "text/plain": [
       "\"==================== new iteration\""
      ]
     },
     "metadata": {},
     "output_type": "display_data"
    },
    {
     "data": {
      "text/plain": [
       "\"X\""
      ]
     },
     "metadata": {},
     "output_type": "display_data"
    },
    {
     "data": {
      "text/plain": [
       "6×6 Adjoint{Float64,Array{Float64,2}}:\n",
       " 0.0           8.94121e-6   7.16502e-6  …  -9.08857e-6   0.0        \n",
       " 2.02616e-15   8.79845e-6   7.04617e-6     -8.63488e-6  -1.77636e-15\n",
       " 7.59111e-6    1.59162e-5   1.41465e-5     -1.42445e-6   7.37303e-6 \n",
       " 6.3675e-6    -3.02365e-6  -1.13256e-6      1.54118e-5   5.55423e-6 \n",
       " 1.12745e-6   -4.74829e-6  -3.22e-6         1.09287e-5   3.56163e-6 \n",
       " 0.0           9.07207e-6   7.29912e-6  …  -8.48345e-6   0.0        "
      ]
     },
     "metadata": {},
     "output_type": "display_data"
    },
    {
     "data": {
      "text/plain": [
       "\"==================== new iteration\""
      ]
     },
     "metadata": {},
     "output_type": "display_data"
    },
    {
     "data": {
      "text/plain": [
       "\"X\""
      ]
     },
     "metadata": {},
     "output_type": "display_data"
    },
    {
     "data": {
      "text/plain": [
       "6×6 Adjoint{Float64,Array{Float64,2}}:\n",
       " 0.0          1.73479e-5   1.38373e-5  -1.46175e-5  -1.86647e-5  0.0        \n",
       " 1.249e-15    7.81596e-7   1.09162e-6   3.14236e-6   3.58419e-6  1.11022e-15\n",
       " 1.42173e-5   3.24357e-5   2.87289e-5  -6.54958e-7  -4.48524e-6  1.35383e-5 \n",
       " 1.35953e-5   1.29012e-5   1.30914e-5   1.44002e-5   1.45952e-5  1.28084e-5 \n",
       " 2.11255e-6  -1.3021e-5   -9.77799e-6   1.6332e-5    1.95342e-5  5.99357e-6 \n",
       " 0.0          7.33716e-7   5.99482e-7   2.89745e-7   2.52713e-7  0.0        "
      ]
     },
     "metadata": {},
     "output_type": "display_data"
    },
    {
     "data": {
      "text/plain": [
       "\"==================== new iteration\""
      ]
     },
     "metadata": {},
     "output_type": "display_data"
    },
    {
     "data": {
      "text/plain": [
       "\"X\""
      ]
     },
     "metadata": {},
     "output_type": "display_data"
    },
    {
     "data": {
      "text/plain": [
       "6×6 Adjoint{Float64,Array{Float64,2}}:\n",
       " 0.0          2.59667e-5   2.07136e-5  -2.17765e-5  -2.7621e-5   0.0       \n",
       " 3.31601e-6  -7.42207e-6  -5.40359e-6   1.06586e-5   1.30104e-5  2.17268e-6\n",
       " 2.0834e-5    4.65284e-5   4.13655e-5   1.92443e-7  -5.097e-6    2.1339e-5 \n",
       " 2.02917e-5   3.06388e-5   2.86495e-5   1.3e-5       1.08672e-5  1.86134e-5\n",
       " 2.11255e-6  -2.52546e-6  -1.14216e-6   1.21193e-5   1.36316e-5  5.99357e-6\n",
       " 0.0         -7.43213e-6  -5.87061e-6   7.28783e-6   8.95312e-6  0.0       "
      ]
     },
     "metadata": {},
     "output_type": "display_data"
    },
    {
     "data": {
      "text/plain": [
       "3-element Array{Any,1}:\n",
       " [0.0 8.941209020728397e-6 … -9.088572580352559e-6 0.0; 2.0261570199409107e-15 8.798452920012282e-6 … -8.634875583459963e-6 -1.7763568394002505e-15; … ; 1.12744515656793e-6 -4.748289004176885e-6 … 1.0928747924331213e-5 3.5616331220400532e-6; 0.0 9.072067565113876e-6 … -8.483448439036437e-6 0.0]   \n",
       " [0.0 1.7347856071377342e-5 … -1.8664720486921066e-5 0.0; 1.2490009027033011e-15 7.815957101714445e-7 … 3.5841948972125527e-6 1.1102230246251565e-15; … ; 2.1125523785858746e-6 -1.3021027753822918e-5 … 1.9534224794022548e-5 5.993569045098512e-6; 0.0 7.337160106076649e-7 … 2.5271301802282524e-7 0.0]\n",
       " [0.0 2.5966681749723994e-5 … -2.7620950880726226e-5 0.0; 3.3160084126626632e-6 -7.422071387140529e-6 … 1.301035696213266e-5 2.17268442548324e-6; … ; 2.112552379029964e-6 -2.5254618553193734e-6 … 1.3631560615569533e-5 5.9935690424062216e-6; 0.0 -7.432125909047312e-6 … 8.953116283223538e-6 0.0]    "
      ]
     },
     "execution_count": 123,
     "metadata": {},
     "output_type": "execute_result"
    }
   ],
   "source": [
    "B = -1 .* A'\n",
    "N = 3\n",
    "p = ones(N)\n",
    "q = ones(N)\n",
    "sols = adi_solve2(A, B, C, N, p, q )"
   ]
  },
  {
   "cell_type": "markdown",
   "metadata": {},
   "source": [
    "### Image Denoising\n",
    "For this set of examples, the noisy image is generated from one of the Julia samples. The image can be changed to provide other examples.\n",
    "\n",
    "$$\\hat{F} \\Phi_{x}+\\sigma_{\\eta}^{2} \\Phi_{y}^{-1} \\hat{F}=G \\Phi_{x}$$\n",
    "\n",
    "We create the distorted image $G$ by adding Gaussian noise. The approximation of the original image is $\\hat F$."
   ]
  },
  {
   "cell_type": "code",
   "execution_count": null,
   "metadata": {},
   "outputs": [],
   "source": [
    "using TestImages\n",
    "using Images"
   ]
  },
  {
   "cell_type": "code",
   "execution_count": null,
   "metadata": {},
   "outputs": [],
   "source": [
    "function gen_imagedenoise(name)\n",
    "    rng = MersenneTwister(1234);\n",
    "    img = testimage(name)\n",
    "    gimg = Gray.(img)\n",
    "    mat = convert(Array{Float64}, gimg)\n",
    "    \n",
    "    n,m = size(gimg)\n",
    "    eta = rand(1)[1] \n",
    "    noise = zeros((n,m))\n",
    "    randn!(rng,noise)\n",
    "    noise *= eta\n",
    "    \n",
    "    G = noise + mat\n",
    "    \n",
    "    covx = cov(vec(G'), vec(G'))\n",
    "    covy = cov(vec(G), vec(G))\n",
    "    coveta = cov(vec(noise), vec(noise))\n",
    "    \n",
    "    return G, covx, covy, coveta\n",
    "end"
   ]
  },
  {
   "cell_type": "code",
   "execution_count": null,
   "metadata": {},
   "outputs": [],
   "source": []
  },
  {
   "cell_type": "code",
   "execution_count": null,
   "metadata": {},
   "outputs": [],
   "source": [
    "G, covx, covy, coveta = gen_imagedenoise(\"lena_gray_16bit\")"
   ]
  },
  {
   "cell_type": "code",
   "execution_count": null,
   "metadata": {},
   "outputs": [],
   "source": [
    "Gray.(G)"
   ]
  },
  {
   "cell_type": "markdown",
   "metadata": {},
   "source": [
    "References:\n",
    "- [Linear Algebra and Dynamical Systems](https://web.stanford.edu/class/archive/ee/ee263/ee263.1082/notes/ee263coursereader.pdf) (page 15-8)"
   ]
  }
 ],
 "metadata": {
  "kernelspec": {
   "display_name": "Julia 1.2.0",
   "language": "julia",
   "name": "julia-1.2"
  },
  "language_info": {
   "file_extension": ".jl",
   "mimetype": "application/julia",
   "name": "julia",
   "version": "1.2.0"
  }
 },
 "nbformat": 4,
 "nbformat_minor": 2
}
